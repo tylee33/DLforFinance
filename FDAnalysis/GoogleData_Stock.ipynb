{
 "cells": [
  {
   "cell_type": "code",
   "execution_count": 1,
   "metadata": {},
   "outputs": [],
   "source": [
    "import pandas as pd\n",
    "import requests\n",
    "from io import BytesIO\n",
    "import numpy as np"
   ]
  },
  {
   "cell_type": "code",
   "execution_count": 2,
   "metadata": {},
   "outputs": [],
   "source": [
    "# 2013년 시가총액\n",
    "url = \"https://docs.google.com/spreadsheet/ccc?\" + \"key=0Auils-M1uCmvdGFSZFVual9aYVp1UE9oWnZocE5aQVE\" + \"&output=csv\"\n",
    "\n",
    "url = \"http://goo.gl/WfQnX0\" # csv 로 다운로드\n",
    "\n",
    "r = requests.get(url) \n",
    "data = r.content"
   ]
  },
  {
   "cell_type": "code",
   "execution_count": 3,
   "metadata": {},
   "outputs": [
    {
     "data": {
      "text/html": [
       "<div>\n",
       "<style scoped>\n",
       "    .dataframe tbody tr th:only-of-type {\n",
       "        vertical-align: middle;\n",
       "    }\n",
       "\n",
       "    .dataframe tbody tr th {\n",
       "        vertical-align: top;\n",
       "    }\n",
       "\n",
       "    .dataframe thead th {\n",
       "        text-align: right;\n",
       "    }\n",
       "</style>\n",
       "<table border=\"1\" class=\"dataframe\">\n",
       "  <thead>\n",
       "    <tr style=\"text-align: right;\">\n",
       "      <th></th>\n",
       "      <th>Unnamed: 0</th>\n",
       "      <th>rank</th>\n",
       "      <th>code</th>\n",
       "      <th>name</th>\n",
       "      <th>marcap</th>\n",
       "      <th>marcap_pct</th>\n",
       "      <th>year</th>\n",
       "      <th>sector</th>\n",
       "    </tr>\n",
       "  </thead>\n",
       "  <tbody>\n",
       "    <tr>\n",
       "      <th>0</th>\n",
       "      <td>0</td>\n",
       "      <td>1</td>\n",
       "      <td>005930</td>\n",
       "      <td>삼성전자</td>\n",
       "      <td>202.095</td>\n",
       "      <td>15.47%</td>\n",
       "      <td>2013</td>\n",
       "      <td>반도체와반도체장비</td>\n",
       "    </tr>\n",
       "    <tr>\n",
       "      <th>1</th>\n",
       "      <td>1</td>\n",
       "      <td>2</td>\n",
       "      <td>005380</td>\n",
       "      <td>현대차</td>\n",
       "      <td>52.095</td>\n",
       "      <td>3.99%</td>\n",
       "      <td>2013</td>\n",
       "      <td>자동차</td>\n",
       "    </tr>\n",
       "    <tr>\n",
       "      <th>2</th>\n",
       "      <td>2</td>\n",
       "      <td>3</td>\n",
       "      <td>012330</td>\n",
       "      <td>현대모비스</td>\n",
       "      <td>28.570</td>\n",
       "      <td>2.19%</td>\n",
       "      <td>2013</td>\n",
       "      <td>자동차부품</td>\n",
       "    </tr>\n",
       "    <tr>\n",
       "      <th>3</th>\n",
       "      <td>3</td>\n",
       "      <td>4</td>\n",
       "      <td>005490</td>\n",
       "      <td>POSCO</td>\n",
       "      <td>28.467</td>\n",
       "      <td>2.18%</td>\n",
       "      <td>2013</td>\n",
       "      <td>철강</td>\n",
       "    </tr>\n",
       "    <tr>\n",
       "      <th>4</th>\n",
       "      <td>4</td>\n",
       "      <td>5</td>\n",
       "      <td>000660</td>\n",
       "      <td>SK하이닉스</td>\n",
       "      <td>26.135</td>\n",
       "      <td>2.00%</td>\n",
       "      <td>2013</td>\n",
       "      <td>반도체와반도체장비</td>\n",
       "    </tr>\n",
       "  </tbody>\n",
       "</table>\n",
       "</div>"
      ],
      "text/plain": [
       "   Unnamed: 0  rank    code    name   marcap marcap_pct  year     sector\n",
       "0           0     1  005930    삼성전자  202.095     15.47%  2013  반도체와반도체장비\n",
       "1           1     2  005380     현대차   52.095      3.99%  2013        자동차\n",
       "2           2     3  012330   현대모비스   28.570      2.19%  2013      자동차부품\n",
       "3           3     4  005490   POSCO   28.467      2.18%  2013         철강\n",
       "4           4     5  000660  SK하이닉스   26.135      2.00%  2013  반도체와반도체장비"
      ]
     },
     "execution_count": 3,
     "metadata": {},
     "output_type": "execute_result"
    }
   ],
   "source": [
    "df = pd.read_csv(BytesIO(data), dtype={'code':np.str}) \n",
    "df.head()"
   ]
  },
  {
   "cell_type": "code",
   "execution_count": 4,
   "metadata": {},
   "outputs": [
    {
     "data": {
      "text/html": [
       "<div>\n",
       "<style scoped>\n",
       "    .dataframe tbody tr th:only-of-type {\n",
       "        vertical-align: middle;\n",
       "    }\n",
       "\n",
       "    .dataframe tbody tr th {\n",
       "        vertical-align: top;\n",
       "    }\n",
       "\n",
       "    .dataframe thead th {\n",
       "        text-align: right;\n",
       "    }\n",
       "</style>\n",
       "<table border=\"1\" class=\"dataframe\">\n",
       "  <thead>\n",
       "    <tr style=\"text-align: right;\">\n",
       "      <th></th>\n",
       "      <th>code</th>\n",
       "      <th>name</th>\n",
       "      <th>marcap</th>\n",
       "      <th>sector</th>\n",
       "    </tr>\n",
       "  </thead>\n",
       "  <tbody>\n",
       "    <tr>\n",
       "      <th>0</th>\n",
       "      <td>005930</td>\n",
       "      <td>삼성전자</td>\n",
       "      <td>202.095</td>\n",
       "      <td>반도체와반도체장비</td>\n",
       "    </tr>\n",
       "    <tr>\n",
       "      <th>1</th>\n",
       "      <td>005380</td>\n",
       "      <td>현대차</td>\n",
       "      <td>52.095</td>\n",
       "      <td>자동차</td>\n",
       "    </tr>\n",
       "    <tr>\n",
       "      <th>2</th>\n",
       "      <td>012330</td>\n",
       "      <td>현대모비스</td>\n",
       "      <td>28.570</td>\n",
       "      <td>자동차부품</td>\n",
       "    </tr>\n",
       "    <tr>\n",
       "      <th>3</th>\n",
       "      <td>005490</td>\n",
       "      <td>POSCO</td>\n",
       "      <td>28.467</td>\n",
       "      <td>철강</td>\n",
       "    </tr>\n",
       "    <tr>\n",
       "      <th>4</th>\n",
       "      <td>000660</td>\n",
       "      <td>SK하이닉스</td>\n",
       "      <td>26.135</td>\n",
       "      <td>반도체와반도체장비</td>\n",
       "    </tr>\n",
       "    <tr>\n",
       "      <th>5</th>\n",
       "      <td>035420</td>\n",
       "      <td>NAVER</td>\n",
       "      <td>23.865</td>\n",
       "      <td>인터넷소프트웨어와서비스</td>\n",
       "    </tr>\n",
       "    <tr>\n",
       "      <th>6</th>\n",
       "      <td>005935</td>\n",
       "      <td>삼성전자우</td>\n",
       "      <td>23.130</td>\n",
       "      <td>반도체와반도체장비</td>\n",
       "    </tr>\n",
       "    <tr>\n",
       "      <th>7</th>\n",
       "      <td>000270</td>\n",
       "      <td>기아차</td>\n",
       "      <td>22.741</td>\n",
       "      <td>자동차</td>\n",
       "    </tr>\n",
       "    <tr>\n",
       "      <th>8</th>\n",
       "      <td>055550</td>\n",
       "      <td>신한지주</td>\n",
       "      <td>22.430</td>\n",
       "      <td>은행</td>\n",
       "    </tr>\n",
       "    <tr>\n",
       "      <th>9</th>\n",
       "      <td>015760</td>\n",
       "      <td>한국전력</td>\n",
       "      <td>22.308</td>\n",
       "      <td>전기유틸리티</td>\n",
       "    </tr>\n",
       "  </tbody>\n",
       "</table>\n",
       "</div>"
      ],
      "text/plain": [
       "     code    name   marcap        sector\n",
       "0  005930    삼성전자  202.095     반도체와반도체장비\n",
       "1  005380     현대차   52.095           자동차\n",
       "2  012330   현대모비스   28.570         자동차부품\n",
       "3  005490   POSCO   28.467            철강\n",
       "4  000660  SK하이닉스   26.135     반도체와반도체장비\n",
       "5  035420   NAVER   23.865  인터넷소프트웨어와서비스\n",
       "6  005935   삼성전자우   23.130     반도체와반도체장비\n",
       "7  000270     기아차   22.741           자동차\n",
       "8  055550    신한지주   22.430            은행\n",
       "9  015760    한국전력   22.308        전기유틸리티"
      ]
     },
     "execution_count": 4,
     "metadata": {},
     "output_type": "execute_result"
    }
   ],
   "source": [
    "df2 = df[['code', 'name', 'marcap', 'sector']] \n",
    "df2.head(10)"
   ]
  },
  {
   "cell_type": "code",
   "execution_count": 5,
   "metadata": {},
   "outputs": [
    {
     "name": "stdout",
     "output_type": "stream",
     "text": [
      "80\n",
      "Index(['자동차부품', '화학', '기계', '제약', '반도체와반도체장비', '디스플레이장비및부품', '건설', '전자장비와기기',\n",
      "       '식품', '섬유,의류,신발,호화품', '핸드셋', '철강', '통신장비', '건축자재', '방송과엔터테인먼트', '증권',\n",
      "       'IT서비스', '비철금속', '소프트웨어', '조선', '전기제품', '포장재', '건강관리장비와용품', '종이와목재',\n",
      "       '석유와가스', '전기장비', '게임소프트웨어와서비스', '도로와철도운송', '전자제품', '인터넷소프트웨어와서비스',\n",
      "       '상업서비스와공급품', '컴퓨터와주변기기', '호텔,레스토랑,레저', '건축제품', '생물공학', '화장품', '교육서비스',\n",
      "       '음료', '손해보험', '가스유틸리티', '가정용기기와용품', '백화점과일반상점', '생명과학도구및서비스', '가구',\n",
      "       '기타금융', '은행', '자동차', '인터넷과카탈로그소매', '레저용장비와제품', '해운사', '무역회사와판매업체',\n",
      "       '창업투자', '가정용품', '신용평가서비스', '다각화된통신서비스', '에너지장비및서비스', '광고', '복합기업',\n",
      "       '전문소매', '항공사', '판매업체', '부동산', '운송인프라', '전기유틸리티', '디스플레이패널', '생명보험',\n",
      "       '건강관리기술', '출판', '우주항공과국방', '사무용전자제품', '복합유틸리티', '결제관련서비스', '기타',\n",
      "       '식품과기본식료품소매', '무선통신서비스', '담배', '건강관리업체및서비스', '카드', '문구류',\n",
      "       '독립전력생산및에너지거래'],\n",
      "      dtype='object')\n",
      "[120 109  98  95  91  83  80  76  75  70  57  53  45  41  37  37  35  33\n",
      "  31  28  27  24  24  23  22  22  22  20  19  18  18  17  16  16  16  15\n",
      "  15  14  13  12  12  11  10  10  10   9   9   9   7   7   7   7   6   6\n",
      "   6   6   6   6   6   5   5   4   4   4   4   3   3   3   3   3   2   2\n",
      "   2   2   2   1   1   1   1   1]\n"
     ]
    }
   ],
   "source": [
    "sector_counts = df2['sector'].value_counts()\n",
    "\n",
    "print (sector_counts.count()) # 업종수: 80\n",
    "print (sector_counts.index) # 업종항목: 자동차부품, 화학, 기계, 제약 등 ... \n",
    "print (sector_counts.values) # 업종내 기업수: 120, 109, 98, 95 ..."
   ]
  },
  {
   "cell_type": "code",
   "execution_count": 6,
   "metadata": {},
   "outputs": [
    {
     "name": "stdout",
     "output_type": "stream",
     "text": [
      "#C41F3B\n",
      "#FF7D0A\n",
      "#ABD473\n"
     ]
    }
   ],
   "source": [
    "from itertools import cycle\n",
    "\n",
    "colors_list = [ \"#C41F3B\", \"#FF7D0A\", \"#ABD473\", \"#69CCF0\", \"#00FF96\", \"#F58CBA\", \"#FFFFFF\", \"#FFF569\", \"#0070DE\", \"#9482C9\", \"#C79C6E\" ] \n",
    "color = cycle(colors_list)\n",
    "\n",
    "print (next(color)) \n",
    "print (next(color)) \n",
    "print (next(color))"
   ]
  },
  {
   "cell_type": "code",
   "execution_count": 7,
   "metadata": {},
   "outputs": [],
   "source": [
    "import numpy\n",
    "import matplotlib.font_manager as fm\n",
    "from matplotlib import pylab, mlab, pyplot\n",
    "np = numpy\n",
    "plt = pyplot\n",
    "\n",
    "from IPython.display import display\n",
    "from IPython.core.pylabtools import figsize, getfigs\n",
    "\n",
    "from pylab import *\n",
    "from numpy import *"
   ]
  },
  {
   "cell_type": "code",
   "execution_count": 8,
   "metadata": {},
   "outputs": [
    {
     "data": {
      "text/plain": [
       "<Container object of 20 artists>"
      ]
     },
     "execution_count": 8,
     "metadata": {},
     "output_type": "execute_result"
    },
    {
     "data": {
      "image/png": "[encoded data removed]",
      "text/plain": [
       "<matplotlib.figure.Figure at 0x117a39f98>"
      ]
     },
     "metadata": {},
     "output_type": "display_data"
    }
   ],
   "source": [
    "fontprop = fm.FontProperties(fname=\"./NanumSquareBold.ttf\")\n",
    "top20 = sector_counts[0:20]\n",
    "fig, ax = plt.subplots(figsize=(10, 6))\n",
    "ax.set_title(u'업종분포', fontproperties=fontprop)\n",
    "pos = arange(20)\n",
    "pos = pos[::-1] # reverse pos list\n",
    "plt.yticks(pos, [x.encode().decode() for x in top20.index], fontproperties=fontprop) \n",
    "plt.barh(pos, top20.values, align='center', color=colors_list, alpha=0.7)"
   ]
  },
  {
   "cell_type": "code",
   "execution_count": 9,
   "metadata": {},
   "outputs": [
    {
     "data": {
      "text/html": [
       "<div>\n",
       "<style scoped>\n",
       "    .dataframe tbody tr th:only-of-type {\n",
       "        vertical-align: middle;\n",
       "    }\n",
       "\n",
       "    .dataframe tbody tr th {\n",
       "        vertical-align: top;\n",
       "    }\n",
       "\n",
       "    .dataframe thead th {\n",
       "        text-align: right;\n",
       "    }\n",
       "</style>\n",
       "<table border=\"1\" class=\"dataframe\">\n",
       "  <thead>\n",
       "    <tr style=\"text-align: right;\">\n",
       "      <th></th>\n",
       "      <th>Unnamed: 0</th>\n",
       "      <th>rank</th>\n",
       "      <th>code</th>\n",
       "      <th>name</th>\n",
       "      <th>marcap</th>\n",
       "      <th>marcap_pct</th>\n",
       "      <th>year</th>\n",
       "      <th>sector</th>\n",
       "    </tr>\n",
       "  </thead>\n",
       "  <tbody>\n",
       "    <tr>\n",
       "      <th>211</th>\n",
       "      <td>211</td>\n",
       "      <td>212</td>\n",
       "      <td>053800</td>\n",
       "      <td>안랩</td>\n",
       "      <td>0.617</td>\n",
       "      <td>0.05%</td>\n",
       "      <td>2013</td>\n",
       "      <td>소프트웨어</td>\n",
       "    </tr>\n",
       "    <tr>\n",
       "      <th>248</th>\n",
       "      <td>248</td>\n",
       "      <td>249</td>\n",
       "      <td>030520</td>\n",
       "      <td>한글과컴퓨터</td>\n",
       "      <td>0.469</td>\n",
       "      <td>0.04%</td>\n",
       "      <td>2013</td>\n",
       "      <td>소프트웨어</td>\n",
       "    </tr>\n",
       "    <tr>\n",
       "      <th>322</th>\n",
       "      <td>322</td>\n",
       "      <td>323</td>\n",
       "      <td>012510</td>\n",
       "      <td>더존비즈온</td>\n",
       "      <td>0.332</td>\n",
       "      <td>0.03%</td>\n",
       "      <td>2013</td>\n",
       "      <td>소프트웨어</td>\n",
       "    </tr>\n",
       "    <tr>\n",
       "      <th>455</th>\n",
       "      <td>455</td>\n",
       "      <td>456</td>\n",
       "      <td>053980</td>\n",
       "      <td>오상자이엘</td>\n",
       "      <td>0.205</td>\n",
       "      <td>0.02%</td>\n",
       "      <td>2013</td>\n",
       "      <td>소프트웨어</td>\n",
       "    </tr>\n",
       "    <tr>\n",
       "      <th>458</th>\n",
       "      <td>458</td>\n",
       "      <td>459</td>\n",
       "      <td>041020</td>\n",
       "      <td>인프라웨어</td>\n",
       "      <td>0.204</td>\n",
       "      <td>0.02%</td>\n",
       "      <td>2013</td>\n",
       "      <td>소프트웨어</td>\n",
       "    </tr>\n",
       "    <tr>\n",
       "      <th>476</th>\n",
       "      <td>476</td>\n",
       "      <td>477</td>\n",
       "      <td>136540</td>\n",
       "      <td>윈스테크넷</td>\n",
       "      <td>0.197</td>\n",
       "      <td>0.02%</td>\n",
       "      <td>2013</td>\n",
       "      <td>소프트웨어</td>\n",
       "    </tr>\n",
       "    <tr>\n",
       "      <th>492</th>\n",
       "      <td>492</td>\n",
       "      <td>493</td>\n",
       "      <td>085810</td>\n",
       "      <td>알티캐스트</td>\n",
       "      <td>0.190</td>\n",
       "      <td>0.01%</td>\n",
       "      <td>2013</td>\n",
       "      <td>소프트웨어</td>\n",
       "    </tr>\n",
       "    <tr>\n",
       "      <th>517</th>\n",
       "      <td>517</td>\n",
       "      <td>518</td>\n",
       "      <td>032190</td>\n",
       "      <td>다우데이타</td>\n",
       "      <td>0.179</td>\n",
       "      <td>0.01%</td>\n",
       "      <td>2013</td>\n",
       "      <td>소프트웨어</td>\n",
       "    </tr>\n",
       "    <tr>\n",
       "      <th>660</th>\n",
       "      <td>660</td>\n",
       "      <td>661</td>\n",
       "      <td>086960</td>\n",
       "      <td>MDS테크</td>\n",
       "      <td>0.128</td>\n",
       "      <td>0.01%</td>\n",
       "      <td>2013</td>\n",
       "      <td>소프트웨어</td>\n",
       "    </tr>\n",
       "    <tr>\n",
       "      <th>737</th>\n",
       "      <td>737</td>\n",
       "      <td>738</td>\n",
       "      <td>078000</td>\n",
       "      <td>텔코웨어</td>\n",
       "      <td>0.111</td>\n",
       "      <td>0.01%</td>\n",
       "      <td>2013</td>\n",
       "      <td>소프트웨어</td>\n",
       "    </tr>\n",
       "  </tbody>\n",
       "</table>\n",
       "</div>"
      ],
      "text/plain": [
       "     Unnamed: 0  rank    code    name  marcap marcap_pct  year sector\n",
       "211         211   212  053800      안랩   0.617      0.05%  2013  소프트웨어\n",
       "248         248   249  030520  한글과컴퓨터   0.469      0.04%  2013  소프트웨어\n",
       "322         322   323  012510   더존비즈온   0.332      0.03%  2013  소프트웨어\n",
       "455         455   456  053980   오상자이엘   0.205      0.02%  2013  소프트웨어\n",
       "458         458   459  041020   인프라웨어   0.204      0.02%  2013  소프트웨어\n",
       "476         476   477  136540   윈스테크넷   0.197      0.02%  2013  소프트웨어\n",
       "492         492   493  085810   알티캐스트   0.190      0.01%  2013  소프트웨어\n",
       "517         517   518  032190   다우데이타   0.179      0.01%  2013  소프트웨어\n",
       "660         660   661  086960   MDS테크   0.128      0.01%  2013  소프트웨어\n",
       "737         737   738  078000    텔코웨어   0.111      0.01%  2013  소프트웨어"
      ]
     },
     "execution_count": 9,
     "metadata": {},
     "output_type": "execute_result"
    }
   ],
   "source": [
    "df_semi = df[df['sector']=='소프트웨어'] \n",
    "df_semi.head(10)"
   ]
  },
  {
   "cell_type": "code",
   "execution_count": 10,
   "metadata": {},
   "outputs": [
    {
     "data": {
      "text/html": [
       "<div>\n",
       "<style scoped>\n",
       "    .dataframe tbody tr th:only-of-type {\n",
       "        vertical-align: middle;\n",
       "    }\n",
       "\n",
       "    .dataframe tbody tr th {\n",
       "        vertical-align: top;\n",
       "    }\n",
       "\n",
       "    .dataframe thead tr th {\n",
       "        text-align: left;\n",
       "    }\n",
       "\n",
       "    .dataframe thead tr:last-of-type th {\n",
       "        text-align: right;\n",
       "    }\n",
       "</style>\n",
       "<table border=\"1\" class=\"dataframe\">\n",
       "  <thead>\n",
       "    <tr>\n",
       "      <th>sector</th>\n",
       "    </tr>\n",
       "  </thead>\n",
       "  <tbody>\n",
       "  </tbody>\n",
       "</table>\n",
       "</div>"
      ],
      "text/plain": [
       "Empty DataFrame\n",
       "Columns: []\n",
       "Index: []"
      ]
     },
     "execution_count": 10,
     "metadata": {},
     "output_type": "execute_result"
    }
   ],
   "source": [
    "ttable = df[['sector', 'marcap']]\n",
    "#piv = pivot_table(ttable, values='marcap', rows=['sector'], aggfunc=np.sum)\n",
    "piv = pd.pivot_table(ttable, index=['sector'], columns='marcap', aggfunc=np.sum) \n",
    "\n",
    "sector_marcap = piv.copy()\n",
    "sector_marcap[:10]"
   ]
  },
  {
   "cell_type": "code",
   "execution_count": 11,
   "metadata": {},
   "outputs": [
    {
     "data": {
      "text/plain": [
       "<Container object of 20 artists>"
      ]
     },
     "execution_count": 11,
     "metadata": {},
     "output_type": "execute_result"
    },
    {
     "data": {
      "image/png": "[encoded data removed]",
      "text/plain": [
       "<matplotlib.figure.Figure at 0x117a39780>"
      ]
     },
     "metadata": {},
     "output_type": "display_data"
    }
   ],
   "source": [
    "fontprop = fm.FontProperties(fname=\"./NanumSquareBold.ttf\")\n",
    "top20 = sector_counts[0:20]\n",
    "fig, ax = plt.subplots(figsize=(10, 6))\n",
    "ax.set_title(u'업종별 시가총액', fontproperties=fontprop)\n",
    "pos = arange(20)\n",
    "pos = pos[::-1] # reverse pos list\n",
    "plt.yticks(pos, [x.encode().decode() for x in top20.index], fontproperties=fontprop) \n",
    "plt.barh(pos, top20.values, align='center', color=colors_list, alpha=0.7)"
   ]
  },
  {
   "cell_type": "code",
   "execution_count": 12,
   "metadata": {},
   "outputs": [
    {
     "name": "stdout",
     "output_type": "stream",
     "text": [
      "Index(['자동차부품', '화학', '기계', '제약', '반도체와반도체장비', '디스플레이장비및부품', '건설', '전자장비와기기',\n",
      "       '식품', '섬유,의류,신발,호화품'],\n",
      "      dtype='object')\n",
      "[120 109  98  95  91  83  80  76  75  70]\n",
      "Index([], dtype='object', name='sector')\n",
      "[]\n"
     ]
    }
   ],
   "source": [
    "print (sector_counts.index[:10]) \n",
    "print (sector_counts.values[:10])\n",
    "print (sector_marcap.index[:10]) \n",
    "print (sector_marcap.values[:10])"
   ]
  },
  {
   "cell_type": "code",
   "execution_count": 13,
   "metadata": {},
   "outputs": [
    {
     "data": {
      "image/png": "[encoded data removed]",
      "text/plain": [
       "<matplotlib.figure.Figure at 0x11ca55588>"
      ]
     },
     "metadata": {},
     "output_type": "display_data"
    }
   ],
   "source": [
    "# 시가총액 비중 차트 (파이)\n",
    "fontprop = fm.FontProperties(fname=\"./NanumSquareBold.ttf\")\n",
    "fig, axes = plt.subplots(nrows=1, ncols=2) \n",
    "fig.set_size_inches(18, 8)\n",
    "\n",
    "#업종 내 종목 수\n",
    "sec_stock_top = sector_counts[:10]\n",
    "labels = sec_stock_top.index.astype(str) + '\\n' + sec_stock_top.values.astype(str) \n",
    "ulabels = [x.encode().decode() for x in labels]\n",
    "\n",
    "axes[0].set_title(u\"2013 업종내 종목수 TOP 10\", fontproperties=fontprop) \n",
    "patches, texts = axes[0].pie(sec_stock_top, labels=ulabels, startangle=90, \n",
    "                             colors=colors_list)\n",
    "plt.setp(texts, fontproperties=fontprop)\n",
    "\n",
    "sec_mar_top = sector_marcap[:10]\n",
    "labels = sec_mar_top.index.astype(str) + '\\n' + sec_mar_top.values.astype(str) \n",
    "ulabels = [x.encode().decode() for x in labels]\n",
    "\n",
    "axes[1].set_title(u\"2013 업종별 시가총액 TOP 10\", fontproperties=fontprop) \n",
    "patches, texts = axes[1].pie(sec_mar_top, labels=ulabels, startangle=90, \n",
    "                             colors=colors_list)\n",
    "plt.setp(texts, fontproperties=fontprop)"
   ]
  },
  {
   "cell_type": "code",
   "execution_count": null,
   "metadata": {},
   "outputs": [],
   "source": []
  }
 ],
 "metadata": {
  "kernelspec": {
   "display_name": "Python 3",
   "language": "python",
   "name": "python3"
  },
  "language_info": {
   "codemirror_mode": {
    "name": "ipython",
    "version": 3
   },
   "file_extension": ".py",
   "mimetype": "text/x-python",
   "name": "python",
   "nbconvert_exporter": "python",
   "pygments_lexer": "ipython3",
   "version": "3.6.4"
  }
 },
 "nbformat": 4,
 "nbformat_minor": 2
}
