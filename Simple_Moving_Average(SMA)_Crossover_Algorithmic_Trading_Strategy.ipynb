{
  "nbformat": 4,
  "nbformat_minor": 0,
  "metadata": {
    "colab": {
      "name": "Simple Moving Average(SMA) Crossover Algorithmic Trading Strategy.ipynb",
      "version": "0.3.2",
      "provenance": [],
      "include_colab_link": true
    },
    "kernelspec": {
      "name": "python3",
      "display_name": "Python 3"
    }
  },
  "cells": [
    {
      "cell_type": "markdown",
      "metadata": {
        "id": "view-in-github",
        "colab_type": "text"
      },
      "source": [
        "<a href=\"https://colab.research.google.com/github/tylee33/DLforFinance/blob/master/Simple_Moving_Average(SMA)_Crossover_Algorithmic_Trading_Strategy.ipynb\" target=\"_parent\"><img src=\"https://colab.research.google.com/assets/colab-badge.svg\" alt=\"Open In Colab\"/></a>"
      ]
    },
    {
      "cell_type": "code",
      "metadata": {
        "id": "AxxpFHIIj7Lf",
        "colab_type": "code",
        "colab": {}
      },
      "source": [
        "import pandas as pd\n",
        "import quandl\n",
        "import datetime\n",
        "import os\n",
        "import numpy as np\n",
        "%matplotlib inline\n",
        "import matplotlib.pyplot as plt"
      ],
      "execution_count": 0,
      "outputs": []
    },
    {
      "cell_type": "markdown",
      "metadata": {
        "id": "TUNOdiNVkc5W",
        "colab_type": "text"
      },
      "source": [
        "# **1. Fetch stock data**"
      ]
    },
    {
      "cell_type": "code",
      "metadata": {
        "id": "x-wPnC1bkiE-",
        "colab_type": "code",
        "colab": {}
      },
      "source": [
        "def get_data(ticker, start_date, end_date, csv_file_name):\n",
        "    if os.path.exists(csv_file_name):\n",
        "        all_data = pd.read_csv(csv_file_name,  index_col=['Date'], header =0, parse_dates=True)\n",
        "        print(\"Read tickers data from file:\", csv_file_name)\n",
        "        return all_data\n",
        "    else:\n",
        "        quandl.ApiConfig.api_key = \"CG7axqyftyamjMa2DPB5\"\n",
        "        ticker_data = quandl.get('WIKI/'+ticker, start_date = start_date, end_date = end_date)\n",
        "        ticker_data.to_csv(csv_file_name)\n",
        "        return ticker_data"
      ],
      "execution_count": 0,
      "outputs": []
    },
    {
      "cell_type": "markdown",
      "metadata": {
        "id": "Xc_AK2jjksXj",
        "colab_type": "text"
      },
      "source": [
        "# **2. Formulate SMA strategy**"
      ]
    },
    {
      "cell_type": "code",
      "metadata": {
        "id": "SdqbzTr2kqIt",
        "colab_type": "code",
        "colab": {
          "base_uri": "https://localhost:8080/",
          "height": 453
        },
        "outputId": "cdff29f0-adc3-40c0-fd8a-3604cf4805ca"
      },
      "source": [
        "short_lookback_period = 40 # days\n",
        "long_lookback_period = 100 # days\n",
        "\n",
        "apple_ticker_data = get_data('AAPL', '2006-10-01', '2012-01-01', \"apple_ticker_data.csv\")\n",
        "\n",
        "# Prepare a signal dataframe with Date same as from apple ticker data\n",
        "signals = pd.DataFrame(index=apple_ticker_data.index)\n",
        "signals['signal'] = 0.0\n",
        "\n",
        "# Short moving average \n",
        "signals['short_mavg'] = apple_ticker_data['Close'].rolling(window=short_lookback_period, min_periods=1, center=False).mean()\n",
        "\n",
        "# Long moving average\n",
        "signals['long_mavg'] = apple_ticker_data['Close'].rolling(window=long_lookback_period, min_periods = 1, center=False).mean()\n",
        "\n",
        "# Identify cross overs\n",
        "# when short moving avg is greater than long moving avg\n",
        "signals['signal'][short_lookback_period:] = np.where(signals['short_mavg'][short_lookback_period:] > signals['long_mavg'][short_lookback_period:], \n",
        "                             1.0, 0.0) # Value 1 if True, Value 0 if False\n",
        "\n",
        "signals['position'] = signals['signal'].diff()\n",
        "\n",
        "# Where position is 1\n",
        "display(signals[signals.position == 1.0].head())\n",
        "        \n",
        "# Where position is -1\n",
        "display(signals[signals.position == -1].head())"
      ],
      "execution_count": 3,
      "outputs": [
        {
          "output_type": "display_data",
          "data": {
            "text/html": [
              "<div>\n",
              "<style scoped>\n",
              "    .dataframe tbody tr th:only-of-type {\n",
              "        vertical-align: middle;\n",
              "    }\n",
              "\n",
              "    .dataframe tbody tr th {\n",
              "        vertical-align: top;\n",
              "    }\n",
              "\n",
              "    .dataframe thead th {\n",
              "        text-align: right;\n",
              "    }\n",
              "</style>\n",
              "<table border=\"1\" class=\"dataframe\">\n",
              "  <thead>\n",
              "    <tr style=\"text-align: right;\">\n",
              "      <th></th>\n",
              "      <th>signal</th>\n",
              "      <th>short_mavg</th>\n",
              "      <th>long_mavg</th>\n",
              "      <th>position</th>\n",
              "    </tr>\n",
              "    <tr>\n",
              "      <th>Date</th>\n",
              "      <th></th>\n",
              "      <th></th>\n",
              "      <th></th>\n",
              "      <th></th>\n",
              "    </tr>\n",
              "  </thead>\n",
              "  <tbody>\n",
              "    <tr>\n",
              "      <th>2006-11-28</th>\n",
              "      <td>1.0</td>\n",
              "      <td>80.767000</td>\n",
              "      <td>80.622927</td>\n",
              "      <td>1.0</td>\n",
              "    </tr>\n",
              "    <tr>\n",
              "      <th>2008-05-06</th>\n",
              "      <td>1.0</td>\n",
              "      <td>152.380005</td>\n",
              "      <td>151.988421</td>\n",
              "      <td>1.0</td>\n",
              "    </tr>\n",
              "    <tr>\n",
              "      <th>2009-03-19</th>\n",
              "      <td>1.0</td>\n",
              "      <td>92.959187</td>\n",
              "      <td>92.698375</td>\n",
              "      <td>1.0</td>\n",
              "    </tr>\n",
              "    <tr>\n",
              "      <th>2010-09-17</th>\n",
              "      <td>1.0</td>\n",
              "      <td>256.361775</td>\n",
              "      <td>256.145530</td>\n",
              "      <td>1.0</td>\n",
              "    </tr>\n",
              "    <tr>\n",
              "      <th>2011-05-12</th>\n",
              "      <td>1.0</td>\n",
              "      <td>342.916562</td>\n",
              "      <td>342.858125</td>\n",
              "      <td>1.0</td>\n",
              "    </tr>\n",
              "  </tbody>\n",
              "</table>\n",
              "</div>"
            ],
            "text/plain": [
              "            signal  short_mavg   long_mavg  position\n",
              "Date                                                \n",
              "2006-11-28     1.0   80.767000   80.622927       1.0\n",
              "2008-05-06     1.0  152.380005  151.988421       1.0\n",
              "2009-03-19     1.0   92.959187   92.698375       1.0\n",
              "2010-09-17     1.0  256.361775  256.145530       1.0\n",
              "2011-05-12     1.0  342.916562  342.858125       1.0"
            ]
          },
          "metadata": {
            "tags": []
          }
        },
        {
          "output_type": "display_data",
          "data": {
            "text/html": [
              "<div>\n",
              "<style scoped>\n",
              "    .dataframe tbody tr th:only-of-type {\n",
              "        vertical-align: middle;\n",
              "    }\n",
              "\n",
              "    .dataframe tbody tr th {\n",
              "        vertical-align: top;\n",
              "    }\n",
              "\n",
              "    .dataframe thead th {\n",
              "        text-align: right;\n",
              "    }\n",
              "</style>\n",
              "<table border=\"1\" class=\"dataframe\">\n",
              "  <thead>\n",
              "    <tr style=\"text-align: right;\">\n",
              "      <th></th>\n",
              "      <th>signal</th>\n",
              "      <th>short_mavg</th>\n",
              "      <th>long_mavg</th>\n",
              "      <th>position</th>\n",
              "    </tr>\n",
              "    <tr>\n",
              "      <th>Date</th>\n",
              "      <th></th>\n",
              "      <th></th>\n",
              "      <th></th>\n",
              "      <th></th>\n",
              "    </tr>\n",
              "  </thead>\n",
              "  <tbody>\n",
              "    <tr>\n",
              "      <th>2008-02-06</th>\n",
              "      <td>0.0</td>\n",
              "      <td>169.159560</td>\n",
              "      <td>169.198359</td>\n",
              "      <td>-1.0</td>\n",
              "    </tr>\n",
              "    <tr>\n",
              "      <th>2008-08-11</th>\n",
              "      <td>0.0</td>\n",
              "      <td>168.866250</td>\n",
              "      <td>169.257402</td>\n",
              "      <td>-1.0</td>\n",
              "    </tr>\n",
              "    <tr>\n",
              "      <th>2010-08-24</th>\n",
              "      <td>0.0</td>\n",
              "      <td>254.509000</td>\n",
              "      <td>254.852425</td>\n",
              "      <td>-1.0</td>\n",
              "    </tr>\n",
              "    <tr>\n",
              "      <th>2011-05-11</th>\n",
              "      <td>0.0</td>\n",
              "      <td>342.502562</td>\n",
              "      <td>342.598525</td>\n",
              "      <td>-1.0</td>\n",
              "    </tr>\n",
              "    <tr>\n",
              "      <th>2011-05-16</th>\n",
              "      <td>0.0</td>\n",
              "      <td>343.128812</td>\n",
              "      <td>343.131975</td>\n",
              "      <td>-1.0</td>\n",
              "    </tr>\n",
              "  </tbody>\n",
              "</table>\n",
              "</div>"
            ],
            "text/plain": [
              "            signal  short_mavg   long_mavg  position\n",
              "Date                                                \n",
              "2008-02-06     0.0  169.159560  169.198359      -1.0\n",
              "2008-08-11     0.0  168.866250  169.257402      -1.0\n",
              "2010-08-24     0.0  254.509000  254.852425      -1.0\n",
              "2011-05-11     0.0  342.502562  342.598525      -1.0\n",
              "2011-05-16     0.0  343.128812  343.131975      -1.0"
            ]
          },
          "metadata": {
            "tags": []
          }
        }
      ]
    },
    {
      "cell_type": "markdown",
      "metadata": {
        "id": "9b3HyPQGkyDK",
        "colab_type": "text"
      },
      "source": [
        "# **3. Visualize moving averages and cross-over points**"
      ]
    },
    {
      "cell_type": "code",
      "metadata": {
        "id": "H2ia0sYGk1BL",
        "colab_type": "code",
        "colab": {
          "base_uri": "https://localhost:8080/",
          "height": 273
        },
        "outputId": "310c2ed5-4eb0-4b31-c612-106bcd6b4d84"
      },
      "source": [
        "fig = plt.figure()\n",
        "\n",
        "ax1 = fig.add_subplot(111, ylabel = 'Price')\n",
        "\n",
        "# Plot the closing prices\n",
        "apple_ticker_data['Close'].plot(ax=ax1, color = 'y', lw=2)\n",
        "\n",
        "# Plot the short and long moving average\n",
        "signals[['short_mavg','long_mavg']].plot(ax=ax1, lw=2)\n",
        "\n",
        "# Plot the buy signal\n",
        "ax1.plot(signals.loc[signals.position == 1.0].index,\n",
        "         signals.short_mavg[signals.position == 1.0], \n",
        "         marker = '^', markersize = 10, color='g', lw=0)\n",
        "\n",
        "# Plot the sell signal\n",
        "ax1.plot(signals.loc[signals.position == -1.0].index,\n",
        "         signals.short_mavg[signals.position == -1.0], \n",
        "         marker = 'v', markersize = 10, color='r', lw=0)\n",
        "\n",
        "plt.show()"
      ],
      "execution_count": 4,
      "outputs": [
        {
          "output_type": "display_data",
          "data": {
            "image/png": "[encoded data removed]",
            "text/plain": [
              "<Figure size 432x288 with 1 Axes>"
            ]
          },
          "metadata": {
            "tags": []
          }
        }
      ]
    },
    {
      "cell_type": "markdown",
      "metadata": {
        "id": "9rFJiAovk45U",
        "colab_type": "text"
      },
      "source": [
        "# **4. Backtesting the SMA cross-over strategy**"
      ]
    },
    {
      "cell_type": "code",
      "metadata": {
        "id": "ssvBbWxZk4GT",
        "colab_type": "code",
        "colab": {
          "base_uri": "https://localhost:8080/",
          "height": 136
        },
        "outputId": "aa99bbde-80a3-49d0-85ed-e500cbfb5855"
      },
      "source": [
        "# Simple Backtester\n",
        "\n",
        "# Initial capital\n",
        "initial_capital = 100000\n",
        "\n",
        "# Positions Dataframe\n",
        "positions = pd.DataFrame(index = signals.index)\n",
        "\n",
        "# Buy 100 shares\n",
        "positions['AAPL'] = 100 * signals['signal']\n",
        "\n",
        "# Initialize the portfolio with values of shares owned\n",
        "portfolio = positions.multiply(apple_ticker_data['Adj. Close'], axis=0)\n",
        "\n",
        "# Stores the difference in shares owned\n",
        "pos_diff = positions.diff()\n",
        "\n",
        "# Add holdings to portfolio\n",
        "portfolio['holdings'] = (positions.multiply(apple_ticker_data['Adj. Close'], axis=0)).sum(axis=1)\n",
        "\n",
        "# Add cash to portfolio\n",
        "portfolio['cash'] = initial_capital - (pos_diff.multiply(apple_ticker_data['Adj. Close'], axis=0)).sum(axis=1).cumsum()\n",
        "\n",
        "# Total portfolio worth\n",
        "portfolio['total'] = portfolio['cash'] + portfolio['holdings']\n",
        "\n",
        "# portfolio returns\n",
        "portfolio['returns'] = portfolio['total'].pct_change()\n",
        "print(portfolio.tail())"
      ],
      "execution_count": 5,
      "outputs": [
        {
          "output_type": "stream",
          "text": [
            "                   AAPL     holdings           cash          total   returns\n",
            "Date                                                                        \n",
            "2011-12-23  5183.352647  5183.352647   97695.616584  102878.969231  0.000597\n",
            "2011-12-27     0.000000     0.000000  102920.093691  102920.093691  0.000400\n",
            "2011-12-28     0.000000     0.000000  102920.093691  102920.093691  0.000000\n",
            "2011-12-29     0.000000     0.000000  102920.093691  102920.093691  0.000000\n",
            "2011-12-30     0.000000     0.000000  102920.093691  102920.093691  0.000000\n"
          ],
          "name": "stdout"
        }
      ]
    },
    {
      "cell_type": "markdown",
      "metadata": {
        "id": "Mrs-i9nsk_BR",
        "colab_type": "text"
      },
      "source": [
        "# **5. Visualizing portfolio constructed during backtesting using SMA cross-over strategy**"
      ]
    },
    {
      "cell_type": "code",
      "metadata": {
        "id": "2e-BNNJElBqx",
        "colab_type": "code",
        "colab": {
          "base_uri": "https://localhost:8080/",
          "height": 290
        },
        "outputId": "e1e917df-fa21-47fb-a0d6-76289fc87938"
      },
      "source": [
        "fig = plt.figure()\n",
        "\n",
        "ax1 = fig.add_subplot(111, ylabel = \"Porfolio value in $\")\n",
        "\n",
        "portfolio['total'].plot(ax = ax1, color = 'y', lw=2.0)\n",
        "\n",
        "# Plot the portfolio on buy signal\n",
        "ax1.plot(portfolio.loc[signals.position == 1.0].index,\n",
        "         portfolio.total[signals.position == 1.0], \n",
        "         marker = '^', markersize = 10, color='g', lw=0)\n",
        "\n",
        "# Plot the portfolio on sell signal\n",
        "ax1.plot(portfolio.loc[signals.position == -1.0].index,\n",
        "         portfolio.total[signals.position == -1.0], \n",
        "         marker = 'v', markersize = 10, color='r', lw=0)"
      ],
      "execution_count": 6,
      "outputs": [
        {
          "output_type": "execute_result",
          "data": {
            "text/plain": [
              "[<matplotlib.lines.Line2D at 0x7f9e8e3252e8>]"
            ]
          },
          "metadata": {
            "tags": []
          },
          "execution_count": 6
        },
        {
          "output_type": "display_data",
          "data": {
            "image/png": "[encoded data removed]",
            "text/plain": [
              "<Figure size 432x288 with 1 Axes>"
            ]
          },
          "metadata": {
            "tags": []
          }
        }
      ]
    },
    {
      "cell_type": "markdown",
      "metadata": {
        "id": "1T-0RCwnlE3w",
        "colab_type": "text"
      },
      "source": [
        "# **6. Evaluating performance of SMA cross-over strategy**"
      ]
    },
    {
      "cell_type": "markdown",
      "metadata": {
        "id": "YYQyYxpGlLyg",
        "colab_type": "text"
      },
      "source": [
        "**A. Sharpe Ratio**"
      ]
    },
    {
      "cell_type": "code",
      "metadata": {
        "id": "5bnMGpWGlJE5",
        "colab_type": "code",
        "colab": {
          "base_uri": "https://localhost:8080/",
          "height": 34
        },
        "outputId": "87932826-d9bd-45d1-ecca-59d32875dffb"
      },
      "source": [
        "returns = portfolio['returns']\n",
        "\n",
        "# annualized sharpe ratio\n",
        "sharpe_ratio = np.sqrt(252)*(returns.mean()/returns.std())\n",
        "\n",
        "print(sharpe_ratio)"
      ],
      "execution_count": 7,
      "outputs": [
        {
          "output_type": "stream",
          "text": [
            "0.7261238825870256\n"
          ],
          "name": "stdout"
        }
      ]
    },
    {
      "cell_type": "markdown",
      "metadata": {
        "id": "see63VzOlRY4",
        "colab_type": "text"
      },
      "source": [
        "**B. Compound Annualized Growth Rate - CAGR**"
      ]
    },
    {
      "cell_type": "code",
      "metadata": {
        "id": "PBNYoqYDlTuw",
        "colab_type": "code",
        "colab": {
          "base_uri": "https://localhost:8080/",
          "height": 34
        },
        "outputId": "6f401910-8221-409f-dffc-17821bf110a4"
      },
      "source": [
        "days = (apple_ticker_data.index[-1]-apple_ticker_data.index[0]).days\n",
        "cagr = apple_ticker_data['Adj. Close'][-1] - apple_ticker_data['Adj. Close'][1]\n",
        "cagr **= (365.0/days)\n",
        "cagr -= 1\n",
        "print(cagr)"
      ],
      "execution_count": 8,
      "outputs": [
        {
          "output_type": "stream",
          "text": [
            "1.043753306250188\n"
          ],
          "name": "stdout"
        }
      ]
    }
  ]
}