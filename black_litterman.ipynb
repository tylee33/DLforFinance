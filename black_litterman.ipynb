{
  "nbformat": 4,
  "nbformat_minor": 0,
  "metadata": {
    "colab": {
      "name": "black_litterman.ipynb",
      "provenance": [],
      "authorship_tag": "ABX9TyOg2YJjka8tSaYYoxR/h7i/",
      "include_colab_link": true
    },
    "kernelspec": {
      "name": "python3",
      "display_name": "Python 3"
    }
  },
  "cells": [
    {
      "cell_type": "markdown",
      "metadata": {
        "id": "view-in-github",
        "colab_type": "text"
      },
      "source": [
        "<a href=\"https://colab.research.google.com/github/tylee33/DLforFinance/blob/master/black_litterman.ipynb\" target=\"_parent\"><img src=\"https://colab.research.google.com/assets/colab-badge.svg\" alt=\"Open In Colab\"/></a>"
      ]
    },
    {
      "cell_type": "code",
      "metadata": {
        "id": "sABuL6W1COJ_",
        "colab_type": "code",
        "colab": {
          "base_uri": "https://localhost:8080/",
          "height": 51
        },
        "outputId": "3c7ad41d-27dc-4751-c45c-8cf5d4e77064"
      },
      "source": [
        "%pylab\n",
        "%matplotlib inline\n",
        "pylab.rcParams['figure.figsize'] = (10, 6)\n",
        "import scipy.optimize\n",
        "from pandas import *"
      ],
      "execution_count": 1,
      "outputs": [
        {
          "output_type": "stream",
          "text": [
            "Using matplotlib backend: agg\n",
            "Populating the interactive namespace from numpy and matplotlib\n"
          ],
          "name": "stdout"
        }
      ]
    },
    {
      "cell_type": "markdown",
      "metadata": {
        "id": "B0R_F0eRCuFO",
        "colab_type": "text"
      },
      "source": [
        "**Few helper functions**"
      ]
    },
    {
      "cell_type": "code",
      "metadata": {
        "id": "-A5pieQ9Cwev",
        "colab_type": "code",
        "colab": {}
      },
      "source": [
        "# Calculates portfolio mean return\n",
        "def port_mean(W, R):\n",
        "    return sum(R * W)\n",
        "\n",
        "# Calculates portfolio variance of returns\n",
        "def port_var(W, C):\n",
        "    return dot(dot(W, C), W)\n",
        "\n",
        "# Combination of the two functions above - mean and variance of returns calculation\n",
        "def port_mean_var(W, R, C):\n",
        "    return port_mean(W, R), port_var(W, C)"
      ],
      "execution_count": 0,
      "outputs": []
    },
    {
      "cell_type": "code",
      "metadata": {
        "id": "KCoWmbf_C1EW",
        "colab_type": "code",
        "colab": {}
      },
      "source": [
        "# Given risk-free rate, assets returns and covariances, this function calculates\n",
        "# mean-variance frontier and returns its [x,y] points in two arrays\n",
        "def solve_frontier(R, C, rf):\n",
        "    def fitness(W, R, C, r):\n",
        "        # For given level of return r, find weights which minimizes portfolio variance.\n",
        "        mean, var = port_mean_var(W, R, C)\n",
        "        penalty = 100 * abs(\n",
        "            mean - r)  # Big penalty for not meeting stated portfolio return effectively serves as optimization constraint\n",
        "        return var + penalty\n",
        "\n",
        "    frontier_mean, frontier_var = [], []\n",
        "    n = len(R)  # Number of assets in the portfolio\n",
        "    for r in linspace(min(R), max(R), num=20):  # Iterate through the range of returns on Y axis\n",
        "        W = ones([n]) / n  # start optimization with equal weights\n",
        "        b_ = [(0, 1) for i in range(n)]\n",
        "        c_ = ({'type': 'eq', 'fun': lambda W: sum(W) - 1.})\n",
        "        optimized = scipy.optimize.minimize(fitness, W, (R, C, r), method='SLSQP', constraints=c_, bounds=b_)\n",
        "        if not optimized.success:\n",
        "            raise BaseException(optimized.message)\n",
        "        # add point to the efficient frontier [x,y] = [optimized.x, r]\n",
        "        frontier_mean.append(r)\n",
        "        frontier_var.append(port_var(optimized.x, C))\n",
        "    return array(frontier_mean), array(frontier_var)"
      ],
      "execution_count": 0,
      "outputs": []
    },
    {
      "cell_type": "code",
      "metadata": {
        "id": "e1MPMJyZC4BN",
        "colab_type": "code",
        "colab": {}
      },
      "source": [
        "# Given risk-free rate, assets returns and covariances, this function calculates\n",
        "# weights of tangency portfolio with respect to sharpe ratio maximization\n",
        "def solve_weights(R, C, rf):\n",
        "    def fitness(W, R, C, rf):\n",
        "        mean, var = port_mean_var(W, R, C)  # calculate mean/variance of the portfolio\n",
        "        util = (mean - rf) / sqrt(var)  # utility = Sharpe ratio\n",
        "        return 1 / util  # maximize the utility, minimize its inverse value\n",
        "    n = len(R)\n",
        "    W = ones([n]) / n  # start optimization with equal weights\n",
        "    b_ = [(0., 1.) for i in range(n)]  # weights for boundaries between 0%..100%. No leverage, no shorting\n",
        "    c_ = ({'type': 'eq', 'fun': lambda W: sum(W) - 1.})  # Sum of weights must be 100%\n",
        "    optimized = scipy.optimize.minimize(fitness, W, (R, C, rf), method='SLSQP', constraints=c_, bounds=b_)\n",
        "    if not optimized.success: raise BaseException(optimized.message)\n",
        "    return optimized.x"
      ],
      "execution_count": 0,
      "outputs": []
    },
    {
      "cell_type": "code",
      "metadata": {
        "id": "64Zl6mv2C6y1",
        "colab_type": "code",
        "colab": {}
      },
      "source": [
        "class Result:\n",
        "    def __init__(self, W, tan_mean, tan_var, front_mean, front_var):\n",
        "        self.W=W\n",
        "        self.tan_mean=tan_mean\n",
        "        self.tan_var=tan_var\n",
        "        self.front_mean=front_mean\n",
        "        self.front_var=front_var\n",
        "        \n",
        "def optimize_frontier(R, C, rf):\n",
        "    W = solve_weights(R, C, rf)\n",
        "    tan_mean, tan_var = port_mean_var(W, R, C)  # calculate tangency portfolio\n",
        "    front_mean, front_var = solve_frontier(R, C, rf)  # calculate efficient frontier\n",
        "    # Weights, Tangency portfolio asset means and variances, Efficient frontier means and variances\n",
        "    return Result(W, tan_mean, tan_var, front_mean, front_var)\n",
        "\n",
        "def display_assets(names, R, C, color='black'):\n",
        "    scatter([C[i, i] ** .5 for i in range(n)], R, marker='x', color=color), grid(True)  # draw assets\n",
        "    for i in range(n): \n",
        "        text(C[i, i] ** .5, R[i], '  %s' % names[i], verticalalignment='center', color=color) # draw labels\n",
        "\n",
        "def display_frontier(result, label=None, color='black'):\n",
        "    text(result.tan_var ** .5, result.tan_mean, '   tangent', verticalalignment='center', color=color)\n",
        "    scatter(result.tan_var ** .5, result.tan_mean, marker='o', color=color), grid(True)\n",
        "    plot(result.front_var ** .5, result.front_mean, label=label, color=color), grid(True)  # draw efficient frontier"
      ],
      "execution_count": 0,
      "outputs": []
    },
    {
      "cell_type": "markdown",
      "metadata": {
        "id": "-fy5SgLoC9Ud",
        "colab_type": "text"
      },
      "source": [
        "**Load historical prices**"
      ]
    },
    {
      "cell_type": "code",
      "metadata": {
        "id": "5HtgrujXC_5G",
        "colab_type": "code",
        "colab": {}
      },
      "source": [
        "# Function loads historical stock prices of nine major S&P companies and returns them together\n",
        "# with their market capitalizations, as of 2013-07-01\n",
        "def load_data():\n",
        "    symbols = ['XOM', 'AAPL', 'MSFT', 'JNJ', 'GE', 'GOOG', 'CVX', 'PG', 'WFC']\n",
        "    cap = {'XOM': 403.02e9, 'AAPL': 392.90e9, 'MSFT': 283.60e9, 'JNJ': 243.17e9, 'GE': 236.79e9,\n",
        "           'GOOG': 292.72e9, 'CVX': 231.03e9, 'PG': 214.99e9, 'WFC': 218.79e9}\n",
        "    n = len(symbols)\n",
        "    prices_out, caps_out = [], []\n",
        "    for s in symbols:\n",
        "        dataframe = pandas.read_csv('data/%s.csv' % s, index_col=None, parse_dates=['date'])\n",
        "        prices = list(dataframe['close'])[-500:] # trailing window 500 days\n",
        "        prices_out.append(prices)\n",
        "        caps_out.append(cap[s])\n",
        "    return symbols, prices_out, caps_out\n",
        "\n",
        "names, prices, caps = load_data()\n",
        "n = len(names)"
      ],
      "execution_count": 0,
      "outputs": []
    },
    {
      "cell_type": "markdown",
      "metadata": {
        "id": "2IZb17tyDCBu",
        "colab_type": "text"
      },
      "source": [
        "**Estimate assets historical return and covariances**"
      ]
    },
    {
      "cell_type": "code",
      "metadata": {
        "id": "5_Mk9rYcEXHM",
        "colab_type": "code",
        "colab": {}
      },
      "source": [
        "# Function takes historical stock prices together with market capitalizations and\n",
        "# calculates weights, historical returns and historical covariances\n",
        "def assets_historical_returns_and_covariances(prices):\n",
        "    prices = matrix(prices)  # create numpy matrix from prices\n",
        "    # create matrix of historical returns\n",
        "    rows, cols = prices.shape\n",
        "    returns = empty([rows, cols - 1])\n",
        "    for r in range(rows):\n",
        "        for c in range(cols - 1):\n",
        "            p0, p1 = prices[r, c], prices[r, c + 1]\n",
        "            returns[r, c] = (p1 / p0) - 1\n",
        "    # calculate returns\n",
        "    expreturns = array([])\n",
        "    for r in range(rows):\n",
        "        expreturns = append(expreturns, numpy.mean(returns[r]))\n",
        "    # calculate covariances\n",
        "    covars = cov(returns)\n",
        "    expreturns = (1 + expreturns) ** 250 - 1  # Annualize returns\n",
        "    covars = covars * 250  # Annualize covariances\n",
        "    return expreturns, covars\n",
        "\n",
        "W = array(caps) / sum(caps) # calculate market weights from capitalizations\n",
        "R, C = assets_historical_returns_and_covariances(prices)\n",
        "rf = .015  # Risk-free rate"
      ],
      "execution_count": 0,
      "outputs": []
    },
    {
      "cell_type": "markdown",
      "metadata": {
        "id": "XhsRlMSMEZzb",
        "colab_type": "text"
      },
      "source": [
        "**Asset returns and weights**"
      ]
    },
    {
      "cell_type": "code",
      "metadata": {
        "id": "cvBoRCUDEcnk",
        "colab_type": "code",
        "colab": {
          "base_uri": "https://localhost:8080/",
          "height": 128
        },
        "outputId": "2c82dd2d-10d5-4d26-df19-1c00ff29d2a0"
      },
      "source": [
        "display(pandas.DataFrame({'Return': R, 'Weight (based on market cap)': W}, index=names).T)"
      ],
      "execution_count": 12,
      "outputs": [
        {
          "output_type": "display_data",
          "data": {
            "text/html": [
              "<div>\n",
              "<style scoped>\n",
              "    .dataframe tbody tr th:only-of-type {\n",
              "        vertical-align: middle;\n",
              "    }\n",
              "\n",
              "    .dataframe tbody tr th {\n",
              "        vertical-align: top;\n",
              "    }\n",
              "\n",
              "    .dataframe thead th {\n",
              "        text-align: right;\n",
              "    }\n",
              "</style>\n",
              "<table border=\"1\" class=\"dataframe\">\n",
              "  <thead>\n",
              "    <tr style=\"text-align: right;\">\n",
              "      <th></th>\n",
              "      <th>XOM</th>\n",
              "      <th>AAPL</th>\n",
              "      <th>MSFT</th>\n",
              "      <th>JNJ</th>\n",
              "      <th>GE</th>\n",
              "      <th>GOOG</th>\n",
              "      <th>CVX</th>\n",
              "      <th>PG</th>\n",
              "      <th>WFC</th>\n",
              "    </tr>\n",
              "  </thead>\n",
              "  <tbody>\n",
              "    <tr>\n",
              "      <th>Return</th>\n",
              "      <td>0.072993</td>\n",
              "      <td>0.129536</td>\n",
              "      <td>0.172047</td>\n",
              "      <td>0.143764</td>\n",
              "      <td>0.140385</td>\n",
              "      <td>0.331958</td>\n",
              "      <td>0.092131</td>\n",
              "      <td>0.112222</td>\n",
              "      <td>0.268935</td>\n",
              "    </tr>\n",
              "    <tr>\n",
              "      <th>Weight (based on market cap)</th>\n",
              "      <td>0.160119</td>\n",
              "      <td>0.156098</td>\n",
              "      <td>0.112673</td>\n",
              "      <td>0.096611</td>\n",
              "      <td>0.094076</td>\n",
              "      <td>0.116297</td>\n",
              "      <td>0.091787</td>\n",
              "      <td>0.085415</td>\n",
              "      <td>0.086925</td>\n",
              "    </tr>\n",
              "  </tbody>\n",
              "</table>\n",
              "</div>"
            ],
            "text/plain": [
              "                                   XOM      AAPL  ...        PG       WFC\n",
              "Return                        0.072993  0.129536  ...  0.112222  0.268935\n",
              "Weight (based on market cap)  0.160119  0.156098  ...  0.085415  0.086925\n",
              "\n",
              "[2 rows x 9 columns]"
            ]
          },
          "metadata": {
            "tags": []
          }
        }
      ]
    },
    {
      "cell_type": "markdown",
      "metadata": {
        "id": "nsqA9X9VEgNj",
        "colab_type": "text"
      },
      "source": [
        "**Asset covariances**"
      ]
    },
    {
      "cell_type": "code",
      "metadata": {
        "id": "Gga5ujQNEiuo",
        "colab_type": "code",
        "colab": {
          "base_uri": "https://localhost:8080/",
          "height": 328
        },
        "outputId": "099b4294-d015-4e08-ee43-bccc946eacfb"
      },
      "source": [
        "display(pandas.DataFrame(C, columns=names, index=names))"
      ],
      "execution_count": 13,
      "outputs": [
        {
          "output_type": "display_data",
          "data": {
            "text/html": [
              "<div>\n",
              "<style scoped>\n",
              "    .dataframe tbody tr th:only-of-type {\n",
              "        vertical-align: middle;\n",
              "    }\n",
              "\n",
              "    .dataframe tbody tr th {\n",
              "        vertical-align: top;\n",
              "    }\n",
              "\n",
              "    .dataframe thead th {\n",
              "        text-align: right;\n",
              "    }\n",
              "</style>\n",
              "<table border=\"1\" class=\"dataframe\">\n",
              "  <thead>\n",
              "    <tr style=\"text-align: right;\">\n",
              "      <th></th>\n",
              "      <th>XOM</th>\n",
              "      <th>AAPL</th>\n",
              "      <th>MSFT</th>\n",
              "      <th>JNJ</th>\n",
              "      <th>GE</th>\n",
              "      <th>GOOG</th>\n",
              "      <th>CVX</th>\n",
              "      <th>PG</th>\n",
              "      <th>WFC</th>\n",
              "    </tr>\n",
              "  </thead>\n",
              "  <tbody>\n",
              "    <tr>\n",
              "      <th>XOM</th>\n",
              "      <td>0.039015</td>\n",
              "      <td>0.022296</td>\n",
              "      <td>0.027982</td>\n",
              "      <td>0.019595</td>\n",
              "      <td>0.036647</td>\n",
              "      <td>0.026728</td>\n",
              "      <td>0.038245</td>\n",
              "      <td>0.018216</td>\n",
              "      <td>0.042972</td>\n",
              "    </tr>\n",
              "    <tr>\n",
              "      <th>AAPL</th>\n",
              "      <td>0.022296</td>\n",
              "      <td>0.091844</td>\n",
              "      <td>0.024599</td>\n",
              "      <td>0.011578</td>\n",
              "      <td>0.027814</td>\n",
              "      <td>0.033249</td>\n",
              "      <td>0.028240</td>\n",
              "      <td>0.011532</td>\n",
              "      <td>0.036756</td>\n",
              "    </tr>\n",
              "    <tr>\n",
              "      <th>MSFT</th>\n",
              "      <td>0.027982</td>\n",
              "      <td>0.024599</td>\n",
              "      <td>0.051014</td>\n",
              "      <td>0.016842</td>\n",
              "      <td>0.032649</td>\n",
              "      <td>0.026231</td>\n",
              "      <td>0.030815</td>\n",
              "      <td>0.013724</td>\n",
              "      <td>0.040321</td>\n",
              "    </tr>\n",
              "    <tr>\n",
              "      <th>JNJ</th>\n",
              "      <td>0.019595</td>\n",
              "      <td>0.011578</td>\n",
              "      <td>0.016842</td>\n",
              "      <td>0.019456</td>\n",
              "      <td>0.021048</td>\n",
              "      <td>0.015547</td>\n",
              "      <td>0.021005</td>\n",
              "      <td>0.013196</td>\n",
              "      <td>0.026861</td>\n",
              "    </tr>\n",
              "    <tr>\n",
              "      <th>GE</th>\n",
              "      <td>0.036647</td>\n",
              "      <td>0.027814</td>\n",
              "      <td>0.032649</td>\n",
              "      <td>0.021048</td>\n",
              "      <td>0.059233</td>\n",
              "      <td>0.031083</td>\n",
              "      <td>0.040677</td>\n",
              "      <td>0.019377</td>\n",
              "      <td>0.053928</td>\n",
              "    </tr>\n",
              "    <tr>\n",
              "      <th>GOOG</th>\n",
              "      <td>0.026728</td>\n",
              "      <td>0.033249</td>\n",
              "      <td>0.026231</td>\n",
              "      <td>0.015547</td>\n",
              "      <td>0.031083</td>\n",
              "      <td>0.066899</td>\n",
              "      <td>0.030258</td>\n",
              "      <td>0.015123</td>\n",
              "      <td>0.039019</td>\n",
              "    </tr>\n",
              "    <tr>\n",
              "      <th>CVX</th>\n",
              "      <td>0.038245</td>\n",
              "      <td>0.028240</td>\n",
              "      <td>0.030815</td>\n",
              "      <td>0.021005</td>\n",
              "      <td>0.040677</td>\n",
              "      <td>0.030258</td>\n",
              "      <td>0.050857</td>\n",
              "      <td>0.019587</td>\n",
              "      <td>0.048326</td>\n",
              "    </tr>\n",
              "    <tr>\n",
              "      <th>PG</th>\n",
              "      <td>0.018216</td>\n",
              "      <td>0.011532</td>\n",
              "      <td>0.013724</td>\n",
              "      <td>0.013196</td>\n",
              "      <td>0.019377</td>\n",
              "      <td>0.015123</td>\n",
              "      <td>0.019587</td>\n",
              "      <td>0.025152</td>\n",
              "      <td>0.022479</td>\n",
              "    </tr>\n",
              "    <tr>\n",
              "      <th>WFC</th>\n",
              "      <td>0.042972</td>\n",
              "      <td>0.036756</td>\n",
              "      <td>0.040321</td>\n",
              "      <td>0.026861</td>\n",
              "      <td>0.053928</td>\n",
              "      <td>0.039019</td>\n",
              "      <td>0.048326</td>\n",
              "      <td>0.022479</td>\n",
              "      <td>0.089826</td>\n",
              "    </tr>\n",
              "  </tbody>\n",
              "</table>\n",
              "</div>"
            ],
            "text/plain": [
              "           XOM      AAPL      MSFT  ...       CVX        PG       WFC\n",
              "XOM   0.039015  0.022296  0.027982  ...  0.038245  0.018216  0.042972\n",
              "AAPL  0.022296  0.091844  0.024599  ...  0.028240  0.011532  0.036756\n",
              "MSFT  0.027982  0.024599  0.051014  ...  0.030815  0.013724  0.040321\n",
              "JNJ   0.019595  0.011578  0.016842  ...  0.021005  0.013196  0.026861\n",
              "GE    0.036647  0.027814  0.032649  ...  0.040677  0.019377  0.053928\n",
              "GOOG  0.026728  0.033249  0.026231  ...  0.030258  0.015123  0.039019\n",
              "CVX   0.038245  0.028240  0.030815  ...  0.050857  0.019587  0.048326\n",
              "PG    0.018216  0.011532  0.013724  ...  0.019587  0.025152  0.022479\n",
              "WFC   0.042972  0.036756  0.040321  ...  0.048326  0.022479  0.089826\n",
              "\n",
              "[9 rows x 9 columns]"
            ]
          },
          "metadata": {
            "tags": []
          }
        }
      ]
    },
    {
      "cell_type": "markdown",
      "metadata": {
        "id": "UGPzPALqElhM",
        "colab_type": "text"
      },
      "source": [
        "**Mean-Variance Optimization (based on historical returns)**"
      ]
    },
    {
      "cell_type": "code",
      "metadata": {
        "id": "AxqG8aCxEobT",
        "colab_type": "code",
        "colab": {
          "base_uri": "https://localhost:8080/",
          "height": 453
        },
        "outputId": "3bb55892-ca68-4c8d-8e8d-6fb10758cc92"
      },
      "source": [
        "res1 = optimize_frontier(R, C, rf)\n",
        "\n",
        "display_assets(names, R, C, color='blue')\n",
        "#display_frontier(res1, color='blue')\n",
        "xlabel('variance $\\sigma$'), ylabel('mean $\\mu$'), show()\n",
        "display(pandas.DataFrame({'Weight': res1.W}, index=names).T)"
      ],
      "execution_count": 49,
      "outputs": [
        {
          "output_type": "display_data",
          "data": {
            "image/png": "[encoded data removed]",
            "text/plain": [
              "<Figure size 720x432 with 1 Axes>"
            ]
          },
          "metadata": {
            "tags": []
          }
        },
        {
          "output_type": "display_data",
          "data": {
            "text/html": [
              "<div>\n",
              "<style scoped>\n",
              "    .dataframe tbody tr th:only-of-type {\n",
              "        vertical-align: middle;\n",
              "    }\n",
              "\n",
              "    .dataframe tbody tr th {\n",
              "        vertical-align: top;\n",
              "    }\n",
              "\n",
              "    .dataframe thead th {\n",
              "        text-align: right;\n",
              "    }\n",
              "</style>\n",
              "<table border=\"1\" class=\"dataframe\">\n",
              "  <thead>\n",
              "    <tr style=\"text-align: right;\">\n",
              "      <th></th>\n",
              "      <th>XOM</th>\n",
              "      <th>AAPL</th>\n",
              "      <th>MSFT</th>\n",
              "      <th>JNJ</th>\n",
              "      <th>GE</th>\n",
              "      <th>GOOG</th>\n",
              "      <th>CVX</th>\n",
              "      <th>PG</th>\n",
              "      <th>WFC</th>\n",
              "    </tr>\n",
              "  </thead>\n",
              "  <tbody>\n",
              "    <tr>\n",
              "      <th>Weight</th>\n",
              "      <td>1.528002e-16</td>\n",
              "      <td>0.0</td>\n",
              "      <td>1.684932e-17</td>\n",
              "      <td>0.450921</td>\n",
              "      <td>5.244599e-17</td>\n",
              "      <td>0.528356</td>\n",
              "      <td>0.0</td>\n",
              "      <td>0.0</td>\n",
              "      <td>0.020723</td>\n",
              "    </tr>\n",
              "  </tbody>\n",
              "</table>\n",
              "</div>"
            ],
            "text/plain": [
              "                 XOM  AAPL          MSFT  ...  CVX   PG       WFC\n",
              "Weight  1.528002e-16   0.0  1.684932e-17  ...  0.0  0.0  0.020723\n",
              "\n",
              "[1 rows x 9 columns]"
            ]
          },
          "metadata": {
            "tags": []
          }
        }
      ]
    },
    {
      "cell_type": "markdown",
      "metadata": {
        "id": "nFLr4kSAGHtf",
        "colab_type": "text"
      },
      "source": [
        "**Black-litterman reverse optimization**"
      ]
    },
    {
      "cell_type": "code",
      "metadata": {
        "id": "2BEqHNNjGKZV",
        "colab_type": "code",
        "colab": {}
      },
      "source": [
        "# Calculate portfolio historical return and variance\n",
        "mean, var = port_mean_var(W, R, C)\n",
        "\n",
        "lmb = (mean - rf) / var  # Calculate risk aversion\n",
        "Pi = dot(dot(lmb, C), W)  # Calculate equilibrium excess returns"
      ],
      "execution_count": 0,
      "outputs": []
    },
    {
      "cell_type": "markdown",
      "metadata": {
        "id": "zhwFJdB0GO6d",
        "colab_type": "text"
      },
      "source": [
        "**Mean-variance Optimization (based on equilibrium returns)**"
      ]
    },
    {
      "cell_type": "code",
      "metadata": {
        "id": "DzPTbo7aGN_0",
        "colab_type": "code",
        "colab": {
          "base_uri": "https://localhost:8080/",
          "height": 470
        },
        "outputId": "ad0f0c2e-52a8-49b1-ab0a-5b7ad8a358ac"
      },
      "source": [
        "res2 = optimize_frontier(Pi+rf, C, rf)\n",
        "\n",
        "display_assets(names, R, C, color='red')\n",
        "#display_frontier(res1, label='Historical returns', color='red')\n",
        "display_assets(names, Pi+rf, C, color='green')\n",
        "#display_frontier(res2, label='Implied returns', color='green')\n",
        "xlabel('variance $\\sigma$'), ylabel('mean $\\mu$'), legend(), show()\n",
        "display(pandas.DataFrame({'Weight': res2.W}, index=names).T)"
      ],
      "execution_count": 24,
      "outputs": [
        {
          "output_type": "stream",
          "text": [
            "No handles with labels found to put in legend.\n"
          ],
          "name": "stderr"
        },
        {
          "output_type": "display_data",
          "data": {
            "image/png": "[encoded data removed]",
            "text/plain": [
              "<Figure size 720x432 with 1 Axes>"
            ]
          },
          "metadata": {
            "tags": []
          }
        },
        {
          "output_type": "display_data",
          "data": {
            "text/html": [
              "<div>\n",
              "<style scoped>\n",
              "    .dataframe tbody tr th:only-of-type {\n",
              "        vertical-align: middle;\n",
              "    }\n",
              "\n",
              "    .dataframe tbody tr th {\n",
              "        vertical-align: top;\n",
              "    }\n",
              "\n",
              "    .dataframe thead th {\n",
              "        text-align: right;\n",
              "    }\n",
              "</style>\n",
              "<table border=\"1\" class=\"dataframe\">\n",
              "  <thead>\n",
              "    <tr style=\"text-align: right;\">\n",
              "      <th></th>\n",
              "      <th>XOM</th>\n",
              "      <th>AAPL</th>\n",
              "      <th>MSFT</th>\n",
              "      <th>JNJ</th>\n",
              "      <th>GE</th>\n",
              "      <th>GOOG</th>\n",
              "      <th>CVX</th>\n",
              "      <th>PG</th>\n",
              "      <th>WFC</th>\n",
              "    </tr>\n",
              "  </thead>\n",
              "  <tbody>\n",
              "    <tr>\n",
              "      <th>Weight</th>\n",
              "      <td>0.160429</td>\n",
              "      <td>0.15617</td>\n",
              "      <td>0.112453</td>\n",
              "      <td>0.097424</td>\n",
              "      <td>0.093807</td>\n",
              "      <td>0.116209</td>\n",
              "      <td>0.091813</td>\n",
              "      <td>0.084692</td>\n",
              "      <td>0.087002</td>\n",
              "    </tr>\n",
              "  </tbody>\n",
              "</table>\n",
              "</div>"
            ],
            "text/plain": [
              "             XOM     AAPL      MSFT  ...       CVX        PG       WFC\n",
              "Weight  0.160429  0.15617  0.112453  ...  0.091813  0.084692  0.087002\n",
              "\n",
              "[1 rows x 9 columns]"
            ]
          },
          "metadata": {
            "tags": []
          }
        }
      ]
    },
    {
      "cell_type": "markdown",
      "metadata": {
        "id": "KMss8j1yGbSD",
        "colab_type": "text"
      },
      "source": [
        "**Determine views to the equilibrium returns and prepare views (Q) and link (P) matrices**"
      ]
    },
    {
      "cell_type": "code",
      "metadata": {
        "id": "_Pr-IPP7GeXl",
        "colab_type": "code",
        "colab": {
          "base_uri": "https://localhost:8080/",
          "height": 239
        },
        "outputId": "11fe88dd-321c-400e-b646-911e8e9fb54e"
      },
      "source": [
        "def create_views_and_link_matrix(names, views):\n",
        "    r, c = len(views), len(names)\n",
        "    Q = [views[i][3] for i in range(r)]  # view matrix\n",
        "    P = zeros([r, c])\n",
        "    nameToIndex = dict()\n",
        "    for i, n in enumerate(names):\n",
        "        nameToIndex[n] = i\n",
        "    for i, v in enumerate(views):\n",
        "        name1, name2 = views[i][0], views[i][2]\n",
        "        P[i, nameToIndex[name1]] = +1 if views[i][1] == '>' else -1\n",
        "        P[i, nameToIndex[name2]] = -1 if views[i][1] == '>' else +1\n",
        "    return array(Q), P\n",
        "\n",
        "views = [('MSFT', '>', 'GE', 0.02),\n",
        "         ('AAPL', '<', 'JNJ', 0.02)]\n",
        "\n",
        "Q, P = create_views_and_link_matrix(names, views)\n",
        "print('Views Matrix')\n",
        "display(DataFrame({'Views':Q}))\n",
        "print('Link Matrix')\n",
        "display(DataFrame(P))"
      ],
      "execution_count": 25,
      "outputs": [
        {
          "output_type": "stream",
          "text": [
            "Views Matrix\n"
          ],
          "name": "stdout"
        },
        {
          "output_type": "display_data",
          "data": {
            "text/html": [
              "<div>\n",
              "<style scoped>\n",
              "    .dataframe tbody tr th:only-of-type {\n",
              "        vertical-align: middle;\n",
              "    }\n",
              "\n",
              "    .dataframe tbody tr th {\n",
              "        vertical-align: top;\n",
              "    }\n",
              "\n",
              "    .dataframe thead th {\n",
              "        text-align: right;\n",
              "    }\n",
              "</style>\n",
              "<table border=\"1\" class=\"dataframe\">\n",
              "  <thead>\n",
              "    <tr style=\"text-align: right;\">\n",
              "      <th></th>\n",
              "      <th>Views</th>\n",
              "    </tr>\n",
              "  </thead>\n",
              "  <tbody>\n",
              "    <tr>\n",
              "      <th>0</th>\n",
              "      <td>0.02</td>\n",
              "    </tr>\n",
              "    <tr>\n",
              "      <th>1</th>\n",
              "      <td>0.02</td>\n",
              "    </tr>\n",
              "  </tbody>\n",
              "</table>\n",
              "</div>"
            ],
            "text/plain": [
              "   Views\n",
              "0   0.02\n",
              "1   0.02"
            ]
          },
          "metadata": {
            "tags": []
          }
        },
        {
          "output_type": "stream",
          "text": [
            "Link Matrix\n"
          ],
          "name": "stdout"
        },
        {
          "output_type": "display_data",
          "data": {
            "text/html": [
              "<div>\n",
              "<style scoped>\n",
              "    .dataframe tbody tr th:only-of-type {\n",
              "        vertical-align: middle;\n",
              "    }\n",
              "\n",
              "    .dataframe tbody tr th {\n",
              "        vertical-align: top;\n",
              "    }\n",
              "\n",
              "    .dataframe thead th {\n",
              "        text-align: right;\n",
              "    }\n",
              "</style>\n",
              "<table border=\"1\" class=\"dataframe\">\n",
              "  <thead>\n",
              "    <tr style=\"text-align: right;\">\n",
              "      <th></th>\n",
              "      <th>0</th>\n",
              "      <th>1</th>\n",
              "      <th>2</th>\n",
              "      <th>3</th>\n",
              "      <th>4</th>\n",
              "      <th>5</th>\n",
              "      <th>6</th>\n",
              "      <th>7</th>\n",
              "      <th>8</th>\n",
              "    </tr>\n",
              "  </thead>\n",
              "  <tbody>\n",
              "    <tr>\n",
              "      <th>0</th>\n",
              "      <td>0.0</td>\n",
              "      <td>0.0</td>\n",
              "      <td>1.0</td>\n",
              "      <td>0.0</td>\n",
              "      <td>-1.0</td>\n",
              "      <td>0.0</td>\n",
              "      <td>0.0</td>\n",
              "      <td>0.0</td>\n",
              "      <td>0.0</td>\n",
              "    </tr>\n",
              "    <tr>\n",
              "      <th>1</th>\n",
              "      <td>0.0</td>\n",
              "      <td>-1.0</td>\n",
              "      <td>0.0</td>\n",
              "      <td>1.0</td>\n",
              "      <td>0.0</td>\n",
              "      <td>0.0</td>\n",
              "      <td>0.0</td>\n",
              "      <td>0.0</td>\n",
              "      <td>0.0</td>\n",
              "    </tr>\n",
              "  </tbody>\n",
              "</table>\n",
              "</div>"
            ],
            "text/plain": [
              "     0    1    2    3    4    5    6    7    8\n",
              "0  0.0  0.0  1.0  0.0 -1.0  0.0  0.0  0.0  0.0\n",
              "1  0.0 -1.0  0.0  1.0  0.0  0.0  0.0  0.0  0.0"
            ]
          },
          "metadata": {
            "tags": []
          }
        }
      ]
    },
    {
      "cell_type": "markdown",
      "metadata": {
        "id": "42xwl8hWGjrC",
        "colab_type": "text"
      },
      "source": [
        "**Optimization based on Equilibrium returns with adjusted views**"
      ]
    },
    {
      "cell_type": "code",
      "metadata": {
        "id": "v2jQppGUGlo6",
        "colab_type": "code",
        "colab": {
          "base_uri": "https://localhost:8080/",
          "height": 470
        },
        "outputId": "de839208-9dab-4412-952e-6ada5cb8cc17"
      },
      "source": [
        "tau = .025  # scaling factor\n",
        "\n",
        "# Calculate omega - uncertainty matrix about views\n",
        "omega = dot(dot(dot(tau, P), C), transpose(P))  # 0.025 * P * C * transpose(P)\n",
        "# Calculate equilibrium excess returns with views incorporated\n",
        "sub_a = inv(dot(tau, C))\n",
        "sub_b = dot(dot(transpose(P), inv(omega)), P)\n",
        "sub_c = dot(inv(dot(tau, C)), Pi)\n",
        "sub_d = dot(dot(transpose(P), inv(omega)), Q)\n",
        "Pi_adj = dot(inv(sub_a + sub_b), (sub_c + sub_d))\n",
        "\n",
        "res3 = optimize_frontier(Pi + rf, C, rf)\n",
        "\n",
        "display_assets(names, Pi+rf, C, color='green')\n",
        "display_frontier([res2], label='Implied returns', color='green')\n",
        "display_assets(names, Pi_adj+rf, C, color='blue')\n",
        "#display_frontier(res3, label='Implied returns (adjusted views)', color='blue')\n",
        "xlabel('variance $\\sigma$'), ylabel('mean $\\mu$'), legend(), show()\n",
        "display(pandas.DataFrame({'Weight': res2.W}, index=names).T)"
      ],
      "execution_count": 40,
      "outputs": [
        {
          "output_type": "stream",
          "text": [
            "No handles with labels found to put in legend.\n"
          ],
          "name": "stderr"
        },
        {
          "output_type": "display_data",
          "data": {
            "image/png": "[encoded data removed]",
            "text/plain": [
              "<Figure size 720x432 with 1 Axes>"
            ]
          },
          "metadata": {
            "tags": []
          }
        },
        {
          "output_type": "display_data",
          "data": {
            "text/html": [
              "<div>\n",
              "<style scoped>\n",
              "    .dataframe tbody tr th:only-of-type {\n",
              "        vertical-align: middle;\n",
              "    }\n",
              "\n",
              "    .dataframe tbody tr th {\n",
              "        vertical-align: top;\n",
              "    }\n",
              "\n",
              "    .dataframe thead th {\n",
              "        text-align: right;\n",
              "    }\n",
              "</style>\n",
              "<table border=\"1\" class=\"dataframe\">\n",
              "  <thead>\n",
              "    <tr style=\"text-align: right;\">\n",
              "      <th></th>\n",
              "      <th>XOM</th>\n",
              "      <th>AAPL</th>\n",
              "      <th>MSFT</th>\n",
              "      <th>JNJ</th>\n",
              "      <th>GE</th>\n",
              "      <th>GOOG</th>\n",
              "      <th>CVX</th>\n",
              "      <th>PG</th>\n",
              "      <th>WFC</th>\n",
              "    </tr>\n",
              "  </thead>\n",
              "  <tbody>\n",
              "    <tr>\n",
              "      <th>Weight</th>\n",
              "      <td>0.160429</td>\n",
              "      <td>0.15617</td>\n",
              "      <td>0.112453</td>\n",
              "      <td>0.097424</td>\n",
              "      <td>0.093807</td>\n",
              "      <td>0.116209</td>\n",
              "      <td>0.091813</td>\n",
              "      <td>0.084692</td>\n",
              "      <td>0.087002</td>\n",
              "    </tr>\n",
              "  </tbody>\n",
              "</table>\n",
              "</div>"
            ],
            "text/plain": [
              "             XOM     AAPL      MSFT  ...       CVX        PG       WFC\n",
              "Weight  0.160429  0.15617  0.112453  ...  0.091813  0.084692  0.087002\n",
              "\n",
              "[1 rows x 9 columns]"
            ]
          },
          "metadata": {
            "tags": []
          }
        }
      ]
    }
  ]
}