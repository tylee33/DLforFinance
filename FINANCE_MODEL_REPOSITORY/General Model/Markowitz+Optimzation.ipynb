{
 "cells": [
  {
   "cell_type": "code",
   "execution_count": 1,
   "metadata": {},
   "outputs": [],
   "source": [
    "'''Markowitz Optimization in python, using pandas, and Yahoo Finance Data. Input a \n",
    "list of tickers, and the program will calcuate historical returns, a covariance matrix, and \n",
    "finally, the individual stock weigthings that maximize the portfolio sharpe ratio, defined as\n",
    "sharpe ratio = (expected portfolio return - risk free rate)/portfolio standard deviation'''\n",
    "\n",
    "\n",
    "\n",
    "#various pandas, numpy\n",
    "import pandas as pd\n",
    "import numpy as np\n",
    "import pandas_datareader.data as web\n",
    "from datetime import datetime\n",
    "import scipy as sp\n",
    "import scipy.optimize as scopt\n",
    "import scipy.stats as spstats\n",
    "import matplotlib.mlab as mlab\n",
    "# plotting\n",
    "\n",
    "import matplotlib.pyplot as plt\n",
    "\n",
    "# make plots inline\n",
    "%matplotlib inline\n",
    "\n",
    "# formatting options\n",
    "pd.set_option('display.notebook_repr_html', False)\n",
    "pd.set_option('display.max_columns', 7)\n",
    "pd.set_option('display.max_rows', 10) \n",
    "pd.set_option('display.width', 82) \n",
    "pd.set_option('precision', 7)"
   ]
  },
  {
   "cell_type": "code",
   "execution_count": 2,
   "metadata": {},
   "outputs": [],
   "source": [
    "'''Create the function that stores Tickers in a dataframe'''\n",
    "def create_portfolio(tickers, weights=None):\n",
    "    if weights is None: \n",
    "        shares = np.ones(len(tickers))/len(tickers)\n",
    "    portfolio = pd.DataFrame({'Tickers': tickers, \n",
    "                              'Weights': weights}, \n",
    "                             index=tickers)\n",
    "    return portfolio"
   ]
  },
  {
   "cell_type": "code",
   "execution_count": 3,
   "metadata": {},
   "outputs": [],
   "source": [
    "def get_historical_closes(ticker, start_date, end_date):\n",
    "    # get the data for the tickers.  This will be a panel\n",
    "    p = web.DataReader(ticker, 'yahoo', start_date, end_date)    \n",
    "    # convert the panel to a DataFrame and selection only Adj Close\n",
    "    # while making all index levels columns\n",
    "    d = p.to_frame()['Adj Close'].reset_index()\n",
    "    # rename the columns\n",
    "    d.rename(columns={'minor': 'Ticker', \n",
    "                      'Adj Close': 'Close'}, inplace=True)\n",
    "    # pivot each ticker to a column\n",
    "    pivoted = d.pivot(index='Date', columns='Ticker')\n",
    "    # and drop the one level on the columns\n",
    "    pivoted.columns = pivoted.columns.droplevel(0)\n",
    "    return pivoted"
   ]
  },
  {
   "cell_type": "code",
   "execution_count": 13,
   "metadata": {},
   "outputs": [
    {
     "data": {
      "text/plain": [
       "Ticker           AAPL      BRK-B        JPM         KO       MSFT          T\n",
       "Date                                                                        \n",
       "2010-01-04  20.696493  66.220001  35.175220  20.590786  25.031296  18.092569\n",
       "2010-01-05  20.732279  66.540001  35.856571  20.341703  25.039383  18.003942\n",
       "2010-01-06  20.402502  66.199997  36.053574  20.334484  24.885712  17.740501\n",
       "2010-01-07  20.364788  66.459999  36.767757  20.283945  24.626907  17.541315\n",
       "2010-01-08  20.500179  66.440002  36.677460  19.908524  24.796747  17.412804"
      ]
     },
     "execution_count": 13,
     "metadata": {},
     "output_type": "execute_result"
    }
   ],
   "source": [
    "closes = get_historical_closes(['MSFT', 'AAPL', 'KO', \"JPM\", \"BRK-B\", \"T\"], '2010-01-02', '2017-01-02')\n",
    "closes[:5]"
   ]
  },
  {
   "cell_type": "code",
   "execution_count": 14,
   "metadata": {},
   "outputs": [],
   "source": [
    "def calc_daily_returns(closes):\n",
    "    return np.log(closes/closes.shift(1))"
   ]
  },
  {
   "cell_type": "code",
   "execution_count": 15,
   "metadata": {},
   "outputs": [
    {
     "data": {
      "text/plain": [
       "Ticker           AAPL      BRK-B        JPM         KO       MSFT          T\n",
       "Date                                                                        \n",
       "2010-01-04        NaN        NaN        NaN        NaN        NaN        NaN\n",
       "2010-01-05  0.0017276  0.0048207  0.0191850 -0.0121706  0.0003230 -0.0049106\n",
       "2010-01-06 -0.0160343 -0.0051229  0.0054792 -0.0003549 -0.0061561 -0.0147405\n",
       "2010-01-07 -0.0018502  0.0039198  0.0196153 -0.0024885 -0.0104542 -0.0112913\n",
       "2010-01-08  0.0066263 -0.0003009 -0.0024589 -0.0186817  0.0068728 -0.0073532"
      ]
     },
     "execution_count": 15,
     "metadata": {},
     "output_type": "execute_result"
    }
   ],
   "source": [
    "daily_returns = calc_daily_returns(closes)\n",
    "daily_returns[:5]"
   ]
  },
  {
   "cell_type": "code",
   "execution_count": 16,
   "metadata": {},
   "outputs": [],
   "source": [
    "# calculate annual returns\n",
    "def calc_annual_returns(daily_returns):\n",
    "    grouped = np.exp(daily_returns.groupby(\n",
    "        lambda date: date.year).sum())-1\n",
    "    return grouped"
   ]
  },
  {
   "cell_type": "code",
   "execution_count": 17,
   "metadata": {},
   "outputs": [
    {
     "data": {
      "text/plain": [
       "Ticker       AAPL      BRK-B        JPM         KO       MSFT          T\n",
       "2010    0.5072198  0.2097554 -0.0062917  0.2271249 -0.0794417  0.0945480\n",
       "2011    0.2555803 -0.0475596 -0.1991804  0.1264312 -0.0451565  0.0902390\n",
       "2012    0.3990628  0.1756225  0.3618062  0.0805128  0.0579886  0.1748772\n",
       "2013    0.2583539  0.3217392  0.3673336  0.1723303  0.4429797  0.0972208\n",
       "2014    0.5091870  0.2664473  0.0988281  0.0526609  0.2756461  0.0065947\n",
       "2015   -0.0301371 -0.1206127  0.0837256  0.0513984  0.2269186  0.0831979\n",
       "2016    0.1248042  0.2343230  0.3453638 -0.0035710  0.1507775  0.2987438"
      ]
     },
     "execution_count": 17,
     "metadata": {},
     "output_type": "execute_result"
    }
   ],
   "source": [
    "annual_returns = calc_annual_returns(daily_returns)\n",
    "annual_returns"
   ]
  },
  {
   "cell_type": "code",
   "execution_count": 18,
   "metadata": {},
   "outputs": [],
   "source": [
    "def calc_portfolio_var(returns, weights=None):\n",
    "    if weights is None: \n",
    "        weights = np.ones(returns.columns.size) / \\\n",
    "        returns.columns.size\n",
    "    sigma = np.cov(returns.T,ddof=0)\n",
    "    var = (weights * sigma * weights.T).sum()\n",
    "    return var"
   ]
  },
  {
   "cell_type": "code",
   "execution_count": 19,
   "metadata": {},
   "outputs": [
    {
     "data": {
      "text/plain": [
       "0.006837869430469324"
      ]
     },
     "execution_count": 19,
     "metadata": {},
     "output_type": "execute_result"
    }
   ],
   "source": [
    "# calculate our portfolio variance (equal weighted)\n",
    "calc_portfolio_var(annual_returns)"
   ]
  },
  {
   "cell_type": "code",
   "execution_count": 20,
   "metadata": {},
   "outputs": [],
   "source": [
    "def sharpe_ratio(returns, weights = None, risk_free_rate = 0.015):\n",
    "    n = returns.columns.size\n",
    "    if weights is None: weights = np.ones(n)/n\n",
    "    # get the portfolio variance\n",
    "    var = calc_portfolio_var(returns, weights)\n",
    "    # and the means of the stocks in the portfolio\n",
    "    means = returns.mean()\n",
    "    # and return the sharpe ratio\n",
    "    return (means.dot(weights) - risk_free_rate)/np.sqrt(var)"
   ]
  },
  {
   "cell_type": "code",
   "execution_count": 21,
   "metadata": {},
   "outputs": [
    {
     "data": {
      "text/plain": [
       "1.746997894627086"
      ]
     },
     "execution_count": 21,
     "metadata": {},
     "output_type": "execute_result"
    }
   ],
   "source": [
    "# calculate equal weighted sharpe ratio\n",
    "sharpe_ratio(annual_returns)"
   ]
  },
  {
   "cell_type": "code",
   "execution_count": 22,
   "metadata": {},
   "outputs": [],
   "source": [
    "# function to minimize\n",
    "def y_f(x): return 2+x**2"
   ]
  },
  {
   "cell_type": "code",
   "execution_count": 23,
   "metadata": {},
   "outputs": [
    {
     "name": "stdout",
     "output_type": "stream",
     "text": [
      "Optimization terminated successfully.\n",
      "         Current function value: 2.000000\n",
      "         Iterations: 27\n",
      "         Function evaluations: 54\n"
     ]
    },
    {
     "data": {
      "text/plain": [
       "array([0.])"
      ]
     },
     "execution_count": 23,
     "metadata": {},
     "output_type": "execute_result"
    }
   ],
   "source": [
    "scopt.fmin(y_f,1000)"
   ]
  },
  {
   "cell_type": "code",
   "execution_count": 24,
   "metadata": {},
   "outputs": [],
   "source": [
    "def negative_sharpe_ratio_n_minus_1_stock(weights, \n",
    "                                          returns, \n",
    "                                          risk_free_rate):\n",
    "    \"\"\"\n",
    "    Given n-1 weights, return a negative sharpe ratio\n",
    "    \"\"\"\n",
    "    weights2 = sp.append(weights, 1-np.sum(weights))\n",
    "    return -sharpe_ratio(returns, weights2, risk_free_rate)"
   ]
  },
  {
   "cell_type": "code",
   "execution_count": 25,
   "metadata": {},
   "outputs": [],
   "source": [
    "def optimize_portfolio(returns, risk_free_rate):\n",
    "    \"\"\" \n",
    "    Performs the optimization\n",
    "    \"\"\"\n",
    "    # start with equal weights\n",
    "    w0 = np.ones(returns.columns.size-1, \n",
    "                 dtype=float) * 1.0 / returns.columns.size\n",
    "    # minimize the negative sharpe value\n",
    "    w1 = scopt.fmin(negative_sharpe_ratio_n_minus_1_stock, \n",
    "                    w0, args=(returns, risk_free_rate))\n",
    "    # build final set of weights\n",
    "    final_w = sp.append(w1, 1 - np.sum(w1))\n",
    "    # and calculate the final, optimized, sharpe ratio\n",
    "    final_sharpe = sharpe_ratio(returns, final_w, risk_free_rate)\n",
    "    return (final_w, final_sharpe)"
   ]
  },
  {
   "cell_type": "code",
   "execution_count": 26,
   "metadata": {},
   "outputs": [
    {
     "name": "stdout",
     "output_type": "stream",
     "text": [
      "Optimization terminated successfully.\n",
      "         Current function value: -2.529620\n",
      "         Iterations: 167\n",
      "         Function evaluations: 283\n"
     ]
    },
    {
     "data": {
      "text/plain": [
       "(array([0.13578975, 0.03538629, 0.03265717, 0.47464608, 0.0567388 ,\n",
       "        0.26478191]), 2.5296195573741223)"
      ]
     },
     "execution_count": 26,
     "metadata": {},
     "output_type": "execute_result"
    }
   ],
   "source": [
    "# optimize our portfolio\n",
    "optimize_portfolio(annual_returns, 0.015)"
   ]
  },
  {
   "cell_type": "code",
   "execution_count": null,
   "metadata": {},
   "outputs": [],
   "source": []
  }
 ],
 "metadata": {
  "kernelspec": {
   "display_name": "Python 3",
   "language": "python",
   "name": "python3"
  },
  "language_info": {
   "codemirror_mode": {
    "name": "ipython",
    "version": 3
   },
   "file_extension": ".py",
   "mimetype": "text/x-python",
   "name": "python",
   "nbconvert_exporter": "python",
   "pygments_lexer": "ipython3",
   "version": "3.6.4"
  }
 },
 "nbformat": 4,
 "nbformat_minor": 2
}
