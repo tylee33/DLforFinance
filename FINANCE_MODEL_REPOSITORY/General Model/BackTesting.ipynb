{
 "cells": [
  {
   "cell_type": "code",
   "execution_count": 1,
   "metadata": {},
   "outputs": [],
   "source": [
    "import bt"
   ]
  },
  {
   "cell_type": "code",
   "execution_count": 2,
   "metadata": {},
   "outputs": [
    {
     "name": "stdout",
     "output_type": "stream",
     "text": [
      "                  spy        agg\n",
      "Date                            \n",
      "2009-12-31  94.356552  82.555084\n",
      "2010-01-04  95.956818  82.651054\n",
      "2010-01-05  96.210838  83.027046\n",
      "2010-01-06  96.278587  82.979103\n",
      "2010-01-07  96.684990  82.883118\n"
     ]
    }
   ],
   "source": [
    "# fetch some data\n",
    "data = bt.get('spy,agg', start='2010-01-01')\n",
    "print (data.head())"
   ]
  },
  {
   "cell_type": "code",
   "execution_count": 3,
   "metadata": {},
   "outputs": [],
   "source": [
    "# create the strategy\n",
    "s = bt.Strategy('s1', [bt.algos.RunMonthly(),\n",
    "                       bt.algos.SelectAll(),\n",
    "                       bt.algos.WeighEqually(),\n",
    "                       bt.algos.Rebalance()])"
   ]
  },
  {
   "cell_type": "code",
   "execution_count": 4,
   "metadata": {},
   "outputs": [
    {
     "name": "stdout",
     "output_type": "stream",
     "text": [
      "s1\n",
      "0% [############################# ] 100% | ETA: 00:00:00"
     ]
    }
   ],
   "source": [
    "# create a backtest and run it\n",
    "test = bt.Backtest(s, data)\n",
    "res = bt.run(test)"
   ]
  },
  {
   "cell_type": "code",
   "execution_count": 11,
   "metadata": {},
   "outputs": [],
   "source": [
    "# first let's see an equity curve\n",
    "res.plot()"
   ]
  },
  {
   "cell_type": "code",
   "execution_count": 6,
   "metadata": {},
   "outputs": [
    {
     "name": "stdout",
     "output_type": "stream",
     "text": [
      "Stat                 s1\n",
      "-------------------  ----------\n",
      "Start                2009-12-30\n",
      "End                  2018-04-18\n",
      "Risk-free rate       0.00%\n",
      "\n",
      "Total Return         94.99%\n",
      "Daily Sharpe         1.18\n",
      "Daily Sortino        1.51\n",
      "CAGR                 8.38%\n",
      "Max Drawdown         -7.83%\n",
      "Calmar Ratio         1.07\n",
      "\n",
      "MTD                  1.20%\n",
      "3m                   -1.81%\n",
      "6m                   2.58%\n",
      "YTD                  0.03%\n",
      "1Y                   8.43%\n",
      "3Y (ann.)            6.03%\n",
      "5Y (ann.)            7.85%\n",
      "10Y (ann.)           8.38%\n",
      "Since Incep. (ann.)  8.38%\n",
      "\n",
      "Daily Sharpe         1.18\n",
      "Daily Sortino        1.51\n",
      "Daily Mean (ann.)    8.31%\n",
      "Daily Vol (ann.)     7.07%\n",
      "Daily Skew           -0.43\n",
      "Daily Kurt           4.00\n",
      "Best Day             2.48%\n",
      "Worst Day            -3.11%\n",
      "\n",
      "Monthly Sharpe       1.39\n",
      "Monthly Sortino      2.54\n",
      "Monthly Mean (ann.)  8.21%\n",
      "Monthly Vol (ann.)   5.89%\n",
      "Monthly Skew         -0.03\n",
      "Monthly Kurt         0.30\n",
      "Best Month           5.70%\n",
      "Worst Month          -3.39%\n",
      "\n",
      "Yearly Sharpe        1.62\n",
      "Yearly Sortino       -\n",
      "Yearly Mean          7.80%\n",
      "Yearly Vol           4.83%\n",
      "Yearly Skew          -0.57\n",
      "Yearly Kurt          -0.77\n",
      "Best Year            14.10%\n",
      "Worst Year           0.03%\n",
      "\n",
      "Avg. Drawdown        -0.72%\n",
      "Avg. Drawdown Days   12.62\n",
      "Avg. Up Month        1.54%\n",
      "Avg. Down Month      -1.32%\n",
      "Win Year %           100.00%\n",
      "Win 12m %            96.67%\n"
     ]
    }
   ],
   "source": [
    "# ok and what about some stats?\n",
    "res.display()"
   ]
  },
  {
   "cell_type": "code",
   "execution_count": 7,
   "metadata": {},
   "outputs": [
    {
     "name": "stderr",
     "output_type": "stream",
     "text": [
      "/usr/local/lib/python3.6/site-packages/matplotlib/axes/_axes.py:6462: UserWarning: The 'normed' kwarg is deprecated, and has been replaced by the 'density' kwarg.\n",
      "  warnings.warn(\"The 'normed' kwarg is deprecated, and has been \"\n"
     ]
    }
   ],
   "source": [
    "# ok and how does the return distribution look like?\n",
    "res.plot_histogram()"
   ]
  },
  {
   "cell_type": "code",
   "execution_count": 8,
   "metadata": {},
   "outputs": [],
   "source": [
    "# and just to make sure everything went along as planned, let's plot the security weights over time\n",
    "res.plot_security_weights()"
   ]
  },
  {
   "cell_type": "code",
   "execution_count": 9,
   "metadata": {},
   "outputs": [
    {
     "name": "stdout",
     "output_type": "stream",
     "text": [
      "s2\n",
      "0% [############################# ] 100% | ETA: 00:00:00"
     ]
    }
   ],
   "source": [
    "# create our new strategy\n",
    "s2 = bt.Strategy('s2', [bt.algos.RunWeekly(),\n",
    "                        bt.algos.SelectAll(),\n",
    "                        bt.algos.WeighInvVol(),\n",
    "                        bt.algos.Rebalance()])\n",
    "\n",
    "# now let's test it with the same data set. We will also compare it with our first backtest.\n",
    "test2 = bt.Backtest(s2, data)\n",
    "# we include test here to see the results side-by-side\n",
    "res2 = bt.run(test, test2)\n",
    "\n",
    "res2.plot()"
   ]
  },
  {
   "cell_type": "code",
   "execution_count": 10,
   "metadata": {},
   "outputs": [
    {
     "name": "stdout",
     "output_type": "stream",
     "text": [
      "Stat                 s1          s2\n",
      "-------------------  ----------  ----------\n",
      "Start                2009-12-30  2009-12-30\n",
      "End                  2018-04-18  2018-04-18\n",
      "Risk-free rate       0.00%       0.00%\n",
      "\n",
      "Total Return         94.99%      48.23%\n",
      "Daily Sharpe         1.18        1.48\n",
      "Daily Sortino        1.51        2.01\n",
      "CAGR                 8.38%       4.86%\n",
      "Max Drawdown         -7.83%      -4.07%\n",
      "Calmar Ratio         1.07        1.19\n",
      "\n",
      "MTD                  1.20%       -0.06%\n",
      "3m                   -1.81%      -1.77%\n",
      "6m                   2.58%       0.48%\n",
      "YTD                  0.03%       -1.09%\n",
      "1Y                   8.43%       4.14%\n",
      "3Y (ann.)            6.03%       2.97%\n",
      "5Y (ann.)            7.85%       4.00%\n",
      "10Y (ann.)           8.38%       4.86%\n",
      "Since Incep. (ann.)  8.38%       4.86%\n",
      "\n",
      "Daily Sharpe         1.18        1.48\n",
      "Daily Sortino        1.51        2.01\n",
      "Daily Mean (ann.)    8.31%       4.80%\n",
      "Daily Vol (ann.)     7.07%       3.25%\n",
      "Daily Skew           -0.43       -0.35\n",
      "Daily Kurt           4.00        2.98\n",
      "Best Day             2.48%       1.20%\n",
      "Worst Day            -3.11%      -1.13%\n",
      "\n",
      "Monthly Sharpe       1.39        1.61\n",
      "Monthly Sortino      2.54        2.29\n",
      "Monthly Mean (ann.)  8.21%       4.78%\n",
      "Monthly Vol (ann.)   5.89%       2.96%\n",
      "Monthly Skew         -0.03       -0.68\n",
      "Monthly Kurt         0.30        0.36\n",
      "Best Month           5.70%       1.91%\n",
      "Worst Month          -3.39%      -2.08%\n",
      "\n",
      "Yearly Sharpe        1.62        1.36\n",
      "Yearly Sortino       -           6.59\n",
      "Yearly Mean          7.80%       4.52%\n",
      "Yearly Vol           4.83%       3.31%\n",
      "Yearly Skew          -0.57       -0.73\n",
      "Yearly Kurt          -0.77       -0.52\n",
      "Best Year            14.10%      8.57%\n",
      "Worst Year           0.03%       -1.09%\n",
      "\n",
      "Avg. Drawdown        -0.72%      -0.38%\n",
      "Avg. Drawdown Days   12.62       12.55\n",
      "Avg. Up Month        1.54%       0.80%\n",
      "Avg. Down Month      -1.32%      -0.70%\n",
      "Win Year %           100.00%     77.78%\n",
      "Win 12m %            96.67%      95.56%\n"
     ]
    }
   ],
   "source": [
    "res2.display()"
   ]
  },
  {
   "cell_type": "code",
   "execution_count": null,
   "metadata": {},
   "outputs": [],
   "source": []
  }
 ],
 "metadata": {
  "kernelspec": {
   "display_name": "Python 3",
   "language": "python",
   "name": "python3"
  },
  "language_info": {
   "codemirror_mode": {
    "name": "ipython",
    "version": 3
   },
   "file_extension": ".py",
   "mimetype": "text/x-python",
   "name": "python",
   "nbconvert_exporter": "python",
   "pygments_lexer": "ipython3",
   "version": "3.6.4"
  }
 },
 "nbformat": 4,
 "nbformat_minor": 2
}
