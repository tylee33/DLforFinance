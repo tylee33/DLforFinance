{
 "cells": [
  {
   "cell_type": "code",
   "execution_count": 1,
   "metadata": {},
   "outputs": [],
   "source": [
    "import numpy as np\n",
    "import pandas as pd\n",
    "import matplotlib.pyplot as plt"
   ]
  },
  {
   "cell_type": "code",
   "execution_count": 2,
   "metadata": {},
   "outputs": [],
   "source": [
    "# Equilibrium Portfolio Weights\n",
    "# p.16 Appendix A Table 1\n",
    "# AUL, CAN, FRA, GER, JAP, UKG, USA\n",
    "w = np.array([[0.016, 0.022, 0.052, 0.055, 0.116, 0.124, 0.615]]).T"
   ]
  },
  {
   "cell_type": "code",
   "execution_count": 3,
   "metadata": {},
   "outputs": [],
   "source": [
    "# Correlation Matrix\n",
    "# p.16 Appendix A Table 2\n",
    "# AUL, CAN, FRA, GER, JAP, UKG, USA\n",
    "correlation = np.array([\n",
    "        [1, 0.488, 0.478, 0.515, 0.439, 0.512, 0.491],\n",
    "        [0.488, 1, 0.664, 0.655, 0.310, 0.608, 0.779],\n",
    "        [0.478, 0.664, 1, 0.861, 0.355, 0.783, 0.668],\n",
    "        [0.515, 0.655, 0.861, 1, 0.354, 0.777, 0.653],\n",
    "        [0.439, 0.310, 0.355, 0.354, 1, 0.405, 0.306],\n",
    "        [0.512, 0.608, 0.783, 0.777, 0.405, 1, 0.652],\n",
    "        [0.491, 0.779, 0.668, 0.653, 0.306, 0.652, 1]])"
   ]
  },
  {
   "cell_type": "code",
   "execution_count": 4,
   "metadata": {},
   "outputs": [],
   "source": [
    "# Standard Deviation (Volatility)\n",
    "# p.16 Appendix A Table 2\n",
    "# AUL, CAN, FRA, GER, JAP, UKG, USA\n",
    "std = np.array([[0.16, 0.203, 0.248, 0.271, 0.21, 0.2, 0.187]])"
   ]
  },
  {
   "cell_type": "code",
   "execution_count": 5,
   "metadata": {},
   "outputs": [],
   "source": [
    "# Variance Covariance Matrix (which can be calculated with the correlation and volatility above)\n",
    "Sigma = correlation * np.dot(std.T, std)"
   ]
  },
  {
   "cell_type": "code",
   "execution_count": 6,
   "metadata": {},
   "outputs": [],
   "source": [
    "# delta (δ): risk aversion parameter (scalar)\n",
    "# p.4 footnote\n",
    "delta = 2.5\n",
    "\n",
    "# tau (τ): a scalar measures the uncertainty of the CAPM prior\n",
    "tau = 0.05"
   ]
  },
  {
   "cell_type": "code",
   "execution_count": 7,
   "metadata": {},
   "outputs": [],
   "source": [
    "### (1) Reverse Optimization\n",
    "### Inputs: Equilibrium Portfolio Weights, Standard Deviation (Volatility)\n",
    "### Output: Equilibrium Expected Returns (p.16 Appendix A Table 1)\n",
    "#\n",
    "# U: the utility function of the optimization - w which maximizes U is a set of weights for the optimized portfolio\n",
    "# U= wTΠ − δ/2wTΣw\n",
    "#\n",
    "# When w maximizing U, the following equation must hold:\n",
    "# dU/dw = Π − δΣw = 0\n",
    "# Π = δΣw\n",
    "#\n",
    "# Π: Equilibrium Expected Returns (nx1 vector) (p.16 Appendix A Table 1) —> r_eq\n",
    "# Π′: Black-Litterman expected returns updated by an investor’s view (nx1 vector) (p.7 Chart 2A) —> r_posterior\n",
    "# w: Equilibrium Portfolio Weights (nx1 vector) (p.16 Appendix A Table 1)\n",
    "# w′: Optimal Portfolio Weights (nx1 vector) (p.9 Chart 3B)\n",
    "# Σ: Variance Covariance Matrix\n",
    "# P, Q: Investor’s view matrix\n",
    "# Ω: Investor’s view confidence matrix\n",
    "# delta (δ): investor’s risk aversion parameter (scalar)\n",
    "# tau (τ): a scalar measures the uncertainty of the CAPM prior, variance-covariance matrix\n",
    "#\n",
    "# reverse optimization\n",
    "r_eq = delta * np.dot(Sigma, w)\n",
    "# >>> r_eq\n",
    "#array([[ 0.03937555],\n",
    "#       [ 0.0691519 ],\n",
    "#       [ 0.08358087],\n",
    "#       [ 0.0902724 ],\n",
    "#       [ 0.0430281 ],\n",
    "#       [ 0.06767693],\n",
    "#       [ 0.07560047]])"
   ]
  },
  {
   "cell_type": "code",
   "execution_count": 8,
   "metadata": {},
   "outputs": [],
   "source": [
    "### (2) Blending Equilibrium Portfolio Weights with Investor’s Views\n",
    "### Inputs: Π Equilibrium Expected Returns, P & Q Investor’s view matrix\n",
    "### Output: Π′ Black-Litterman expected returns updated by an investor’s view —> r_posterior, Σ′ —> Sigma_posterior\n",
    "#\n",
    "# Investor’s View\n",
    "# AUL, CAN, FRA, GER, JAP, UKG, USA\n",
    "#\n",
    "# P = [0 0 -0.295 1 0 -0.705 0\n",
    "#        0 1   0        0 0  0        -1]\n",
    "# In the first row,\n",
    "# -0.295: FRA\n",
    "# 1:GER\n",
    "# -0.705: UKG\n",
    "# In the second row,\n",
    "# 1: CAN\n",
    "# -1: USA\n",
    "#\n",
    "# Q = [ 0.05\n",
    "#          0.03]\n",
    "#\n",
    "# These mean that:\n",
    "# GER outperforms FRA and UKG by 5%\n",
    "# CAN outperforms USA by 3%\n",
    "#\n",
    "#\n",
    "# Ω: Investor’s view confidence matrix\n",
    "# Ω = [ 0.001065 0\n",
    "#          0              0.000852 ]\n",
    "\n",
    "P = np.array([\n",
    "        [0,0,-0.295,1,0,-0.705,0],\n",
    "        [0,1,0,0,0,0,-1]]) # 2x7 matrix (2: number of views, 7: number of assets)\n",
    "Q = np.array([[0.05],[0.03]]) # 2-vector\n",
    "Omega = np.array([\n",
    "        [0.001065383332,0],\n",
    "        [0,0.0008517381]])"
   ]
  },
  {
   "cell_type": "code",
   "execution_count": 9,
   "metadata": {},
   "outputs": [],
   "source": [
    "# Black-Litterman master equation\n",
    "# Π′ = Π + τΣPT (PτΣPT + Ω)-1 (Q−PΠ)\n",
    "#\n",
    "# Blending Investor’s View with the Equilibrium Returns\n",
    "r_posterior = r_eq + np.dot( np.dot( tau*np.dot(Sigma,P.T), np.linalg.inv(tau*np.dot(np.dot(P,Sigma),P.T)+Omega)), (Q-np.dot(P,r_eq)))\n",
    "#\n",
    "# AUL, CAN, FRA, GER, JAP, UKG, USA\n",
    "#\n",
    "# >>> r_posterior\n",
    "#array([[ 0.04422145],\n",
    "#       [ 0.08729864],\n",
    "#       [ 0.09479745],\n",
    "#       [ 0.11209947],\n",
    "#       [ 0.04616347],\n",
    "#       [ 0.0697166 ],\n",
    "#       [ 0.0748156 ]])\n",
    "#\n",
    "#\n",
    "# On top of the returns, variance-covariance matrix can be updated as follows:\n",
    "# Σ′ = Σ + τΣ -τΣPT (PτΣPT + Ω)-1PτΣ\n",
    "Sigma_posterior = Sigma + tau*Sigma - tau*np.dot( np.dot( np.dot(Sigma,P.T), np.linalg.inv(tau*np.dot(np.dot(P,Sigma),P.T)+Omega)), tau*np.dot(P,Sigma))\n",
    "#\n",
    "#>>> Sigma_posterior\n",
    "#array([[ 0.02684723,  0.01657429,  0.0198378 ,  0.02328236,  0.01547005,\n",
    "#         0.01718801,  0.01539182],\n",
    "#       [ 0.01657429,  0.04299381,  0.03494199,  0.03753285,  0.01383059,\n",
    "#         0.02589072,  0.03107504],\n",
    "#       [ 0.0198378 ,  0.03494199,  0.06439533,  0.06036839,  0.01937078,\n",
    "#         0.04074256,  0.03244592],\n",
    "#       [ 0.02328236,  0.03753285,  0.06036839,  0.07627367,  0.02106627,\n",
    "#         0.04414171,  0.03454918],\n",
    "#       [ 0.01547005,  0.01383059,  0.01937078,  0.02106627,  0.04629476,\n",
    "#         0.01785243,  0.01260504],\n",
    "#       [ 0.01718801,  0.02589072,  0.04074256,  0.04414171,  0.01785243,\n",
    "#         0.04199287,  0.0255861 ],\n",
    "#       [ 0.01539182,  0.03107504,  0.03244592,  0.03454918,  0.01260504,\n",
    "#         0.0255861 ,  0.03661572]])"
   ]
  },
  {
   "cell_type": "code",
   "execution_count": 10,
   "metadata": {},
   "outputs": [
    {
     "data": {
      "text/plain": [
       "<matplotlib.axes._subplots.AxesSubplot at 0x114292c18>"
      ]
     },
     "execution_count": 10,
     "metadata": {},
     "output_type": "execute_result"
    },
    {
     "data": {
      "image/png": "[encoded data removed]",
      "text/plain": [
       "<matplotlib.figure.Figure at 0x10f0f8860>"
      ]
     },
     "metadata": {},
     "output_type": "display_data"
    }
   ],
   "source": [
    "### (3) Optimization - finding optimal weights\n",
    "### Inputs: Π′, Σ′\n",
    "### Output: w′ Optimal Portfolio Weights —> w_posterior\n",
    "#\n",
    "# w′ = Π′ (δΣ′)-1\n",
    "#\n",
    "# Forward Optimization and finding optimal weghts\n",
    "w_posterior = np.dot(np.linalg.inv(delta*Sigma_posterior), r_posterior)\n",
    "#\n",
    "# AUL, CAN, FRA, GER, JAP, UKG, USA\n",
    "# >>> w_posterior\n",
    "#array([[ 0.0152381 ],\n",
    "#       [ 0.41863571],\n",
    "#       [-0.03409321],\n",
    "#       [ 0.33582847],\n",
    "#       [ 0.11047619],\n",
    "#       [-0.08173526],\n",
    "#       [ 0.18803095]])\n",
    "#\n",
    "# Plot w′ by using pandas\n",
    "df = pd.DataFrame([w.reshape(7),w_posterior.reshape(7)],\n",
    "                  columns=['AUL','CAN','FRA','GER','JAP','UKG','USA'],\n",
    "                  index=['Equilibrium Weights','Constrained Optimal Weights'])\n",
    "df.T.plot(kind='bar', color='br')"
   ]
  },
  {
   "cell_type": "code",
   "execution_count": null,
   "metadata": {},
   "outputs": [],
   "source": []
  }
 ],
 "metadata": {
  "kernelspec": {
   "display_name": "Python 3",
   "language": "python",
   "name": "python3"
  },
  "language_info": {
   "codemirror_mode": {
    "name": "ipython",
    "version": 3
   },
   "file_extension": ".py",
   "mimetype": "text/x-python",
   "name": "python",
   "nbconvert_exporter": "python",
   "pygments_lexer": "ipython3",
   "version": "3.6.4"
  }
 },
 "nbformat": 4,
 "nbformat_minor": 2
}
