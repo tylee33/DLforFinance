{
 "cells": [
  {
   "cell_type": "code",
   "execution_count": 1,
   "metadata": {},
   "outputs": [
    {
     "name": "stderr",
     "output_type": "stream",
     "text": [
      "Using TensorFlow backend.\n"
     ]
    }
   ],
   "source": [
    "import keras.callbacks\n",
    "from keras.models import Sequential\n",
    "from keras.layers.core import Dense, Activation, Dense, Dropout\n",
    "from keras.layers.recurrent import LSTM\n",
    "import pandas as pd\n",
    "import numpy as np\n",
    "import matplotlib.pyplot as plt\n",
    "from sklearn.preprocessing import MinMaxScaler\n",
    "import numpy.random as random"
   ]
  },
  {
   "cell_type": "code",
   "execution_count": 2,
   "metadata": {},
   "outputs": [],
   "source": [
    "LOOKBACK_WINDOW = 15\n",
    "PREDICT_WINDOW = 1\n",
    "BATCH_SIZE = 1     #e.g if 3, then trains with 3 samples/lookback windows, each with 15 timesteps and 2 features at once before updating gradients.\n",
    "HIDDEN = 32\n",
    "DROPOUT = 0.3\n",
    "OPTIMIZER = 'adam'\n",
    "EPOCHS = 3"
   ]
  },
  {
   "cell_type": "code",
   "execution_count": 3,
   "metadata": {},
   "outputs": [],
   "source": [
    "def coint_path(N,delta,sigma,PO):\n",
    "   X = [PO]\n",
    "   Y = [PO]\n",
    "   for i in range(N):\n",
    "      dX = random.randn()+delta*(Y[-1] - X[-1])\n",
    "      X.append(X[-1]+dX)\n",
    "      dY = random.randn()+sigma*(X[-1] - Y[-1])\n",
    "      Y.append(Y[-1]+dY)\n",
    " \n",
    "   return X,Y\n",
    " \n",
    "#create artificial cointegrated series\n",
    "X,Y = coint_path(60,0.9,0.1,0)"
   ]
  },
  {
   "cell_type": "code",
   "execution_count": 4,
   "metadata": {},
   "outputs": [
    {
     "data": {
      "image/png": "[encoded data removed]",
      "text/plain": [
       "<Figure size 432x288 with 1 Axes>"
      ]
     },
     "metadata": {},
     "output_type": "display_data"
    }
   ],
   "source": [
    "plt.plot(np.array(Y),label='Y')\n",
    "plt.plot(np.array(X),label='X')\n",
    "plt.legend()\n",
    "plt.show();"
   ]
  },
  {
   "cell_type": "code",
   "execution_count": 8,
   "metadata": {},
   "outputs": [],
   "source": [
    "def prep_feature_data(X,Y):\n",
    "    data = np.column_stack([X,Y])\n",
    "    scaler = MinMaxScaler(feature_range=(-1,1))\n",
    "    data = scaler.fit_transform(data)\n",
    "    return data\n",
    " \n",
    "#format features for the model into a multidimensional array\n",
    "data = prep_feature_data(X,Y)"
   ]
  },
  {
   "cell_type": "code",
   "execution_count": 9,
   "metadata": {},
   "outputs": [
    {
     "name": "stdout",
     "output_type": "stream",
     "text": [
      "[[-0.13504861 -0.2513552 ]\n",
      " [-0.21911179 -0.28364562]\n",
      " [-0.39631682 -0.42104715]]\n",
      "(61, 2)\n"
     ]
    }
   ],
   "source": [
    "print(data[0:3])\n",
    "print(data.shape)"
   ]
  },
  {
   "cell_type": "code",
   "execution_count": 10,
   "metadata": {},
   "outputs": [],
   "source": [
    "def window_stop(data,LOOKBACK_WINDOW,PREDICT_WINDOW):\n",
    "    examples = LOOKBACK_WINDOW\n",
    "    y_examples = PREDICT_WINDOW\n",
    "    nb_samples = len(data) - examples - y_examples #makes sure it can be split into lookback windows properly\n",
    "    return nb_samples\n",
    " \n",
    "#ensure it can be divided into the lookback window/batch size\n",
    "nb_samples = window_stop(data,LOOKBACK_WINDOW,PREDICT_WINDOW)"
   ]
  },
  {
   "cell_type": "code",
   "execution_count": 11,
   "metadata": {},
   "outputs": [
    {
     "name": "stdout",
     "output_type": "stream",
     "text": [
      "45\n"
     ]
    }
   ],
   "source": [
    "print(nb_samples)"
   ]
  },
  {
   "cell_type": "code",
   "execution_count": 12,
   "metadata": {},
   "outputs": [],
   "source": [
    "def input_features(nb_samples,LOOKBACK_WINDOW):\n",
    "    input_list = [np.expand_dims(data[i:LOOKBACK_WINDOW+i,:], axis=0) for i in range(nb_samples)] #here nb_samples comes in handy\n",
    "    input_mat = np.concatenate(input_list, axis=0)\n",
    "    return input_mat\n",
    " \n",
    "#format the features into the batch size\n",
    "input_mat = input_features(nb_samples,LOOKBACK_WINDOW)"
   ]
  },
  {
   "cell_type": "code",
   "execution_count": 13,
   "metadata": {},
   "outputs": [
    {
     "name": "stdout",
     "output_type": "stream",
     "text": [
      "[[[-0.13504861 -0.2513552 ]\n",
      "  [-0.21911179 -0.28364562]\n",
      "  [-0.39631682 -0.42104715]\n",
      "  [-0.50829334 -0.36446744]\n",
      "  [-0.34506659 -0.44714963]\n",
      "  [-0.31788689 -0.31010218]\n",
      "  [-0.30149792 -0.24059276]\n",
      "  [ 0.02264356 -0.26750126]\n",
      "  [ 0.20237195 -0.5008027 ]\n",
      "  [-0.71332686 -0.80141906]\n",
      "  [-0.65247812 -0.73542895]\n",
      "  [-0.66168406 -0.78193972]\n",
      "  [-0.81015372 -0.60699872]\n",
      "  [-0.81173338 -0.66876699]\n",
      "  [-0.45768746 -0.73755895]]\n",
      "\n",
      " [[-0.21911179 -0.28364562]\n",
      "  [-0.39631682 -0.42104715]\n",
      "  [-0.50829334 -0.36446744]\n",
      "  [-0.34506659 -0.44714963]\n",
      "  [-0.31788689 -0.31010218]\n",
      "  [-0.30149792 -0.24059276]\n",
      "  [ 0.02264356 -0.26750126]\n",
      "  [ 0.20237195 -0.5008027 ]\n",
      "  [-0.71332686 -0.80141906]\n",
      "  [-0.65247812 -0.73542895]\n",
      "  [-0.66168406 -0.78193972]\n",
      "  [-0.81015372 -0.60699872]\n",
      "  [-0.81173338 -0.66876699]\n",
      "  [-0.45768746 -0.73755895]\n",
      "  [-0.56094688 -0.97919258]]]\n",
      "(45, 15, 2)\n"
     ]
    }
   ],
   "source": [
    "print(input_mat[0:2]) #the second sample of features will become the first sample in the next window\n",
    "print(input_mat.shape)"
   ]
  },
  {
   "cell_type": "code",
   "execution_count": null,
   "metadata": {},
   "outputs": [],
   "source": [
    "def target_values(input_mat):\n",
    "    targets = []\n",
    "    for i in range(len(input_mat)):\n",
    "        X1 = input_mat[i].T[0]\n",
    "        X2 = input_mat[i].T[1]\n",
    "        beta = np.polyfit(X1,X2,1)[0] #the slope is calculated from each lookback window \n",
    "        targets.appends((X1[-1] - beta*X2[-1]))\n",
    "        targets = np.array(targets)\n",
    "    return targets"
   ]
  },
  {
   "cell_type": "code",
   "execution_count": 57,
   "metadata": {},
   "outputs": [
    {
     "ename": "AttributeError",
     "evalue": "'list' object has no attribute 'appends'",
     "output_type": "error",
     "traceback": [
      "\u001b[0;31m---------------------------------------------------------------------------\u001b[0m",
      "\u001b[0;31mAttributeError\u001b[0m                            Traceback (most recent call last)",
      "\u001b[0;32m<ipython-input-57-198630094e6c>\u001b[0m in \u001b[0;36m<module>\u001b[0;34m()\u001b[0m\n\u001b[1;32m      1\u001b[0m \u001b[0;31m#format the targets into the batch size\u001b[0m\u001b[0;34m\u001b[0m\u001b[0;34m\u001b[0m\u001b[0m\n\u001b[0;32m----> 2\u001b[0;31m \u001b[0mtargets\u001b[0m \u001b[0;34m=\u001b[0m \u001b[0mtarget_values\u001b[0m\u001b[0;34m(\u001b[0m\u001b[0minput_mat\u001b[0m\u001b[0;34m)\u001b[0m\u001b[0;34m\u001b[0m\u001b[0m\n\u001b[0m",
      "\u001b[0;32m<ipython-input-55-63a483ee5cc6>\u001b[0m in \u001b[0;36mtarget_values\u001b[0;34m(input_mat)\u001b[0m\n\u001b[1;32m      5\u001b[0m         \u001b[0mX2\u001b[0m \u001b[0;34m=\u001b[0m \u001b[0minput_mat\u001b[0m\u001b[0;34m[\u001b[0m\u001b[0mi\u001b[0m\u001b[0;34m]\u001b[0m\u001b[0;34m.\u001b[0m\u001b[0mT\u001b[0m\u001b[0;34m[\u001b[0m\u001b[0;36m1\u001b[0m\u001b[0;34m]\u001b[0m\u001b[0;34m\u001b[0m\u001b[0m\n\u001b[1;32m      6\u001b[0m         \u001b[0mbeta\u001b[0m \u001b[0;34m=\u001b[0m \u001b[0mnp\u001b[0m\u001b[0;34m.\u001b[0m\u001b[0mpolyfit\u001b[0m\u001b[0;34m(\u001b[0m\u001b[0mX1\u001b[0m\u001b[0;34m,\u001b[0m\u001b[0mX2\u001b[0m\u001b[0;34m,\u001b[0m\u001b[0;36m1\u001b[0m\u001b[0;34m)\u001b[0m\u001b[0;34m[\u001b[0m\u001b[0;36m0\u001b[0m\u001b[0;34m]\u001b[0m \u001b[0;31m#the slope is calculated from each lookback window\u001b[0m\u001b[0;34m\u001b[0m\u001b[0m\n\u001b[0;32m----> 7\u001b[0;31m         \u001b[0mtargets\u001b[0m\u001b[0;34m.\u001b[0m\u001b[0mappends\u001b[0m\u001b[0;34m(\u001b[0m\u001b[0;34m(\u001b[0m\u001b[0mX1\u001b[0m\u001b[0;34m[\u001b[0m\u001b[0;34m-\u001b[0m\u001b[0;36m1\u001b[0m\u001b[0;34m]\u001b[0m \u001b[0;34m-\u001b[0m \u001b[0mbeta\u001b[0m\u001b[0;34m*\u001b[0m\u001b[0mX2\u001b[0m\u001b[0;34m[\u001b[0m\u001b[0;34m-\u001b[0m\u001b[0;36m1\u001b[0m\u001b[0;34m]\u001b[0m\u001b[0;34m)\u001b[0m\u001b[0;34m)\u001b[0m\u001b[0;34m\u001b[0m\u001b[0m\n\u001b[0m\u001b[1;32m      8\u001b[0m         \u001b[0mtargets\u001b[0m \u001b[0;34m=\u001b[0m \u001b[0mnp\u001b[0m\u001b[0;34m.\u001b[0m\u001b[0marray\u001b[0m\u001b[0;34m(\u001b[0m\u001b[0mtargets\u001b[0m\u001b[0;34m)\u001b[0m\u001b[0;34m\u001b[0m\u001b[0m\n\u001b[1;32m      9\u001b[0m     \u001b[0;32mreturn\u001b[0m \u001b[0mtargets\u001b[0m\u001b[0;34m\u001b[0m\u001b[0m\n",
      "\u001b[0;31mAttributeError\u001b[0m: 'list' object has no attribute 'appends'"
     ]
    }
   ],
   "source": [
    "#format the targets into the batch size\n",
    "targets = target_values(input_mat)"
   ]
  },
  {
   "cell_type": "code",
   "execution_count": 49,
   "metadata": {},
   "outputs": [],
   "source": [
    "def basic_LSTM_model(BATCH_SIZE,HIDDEN,LOOKBACK_WINDOW,DROPOUT,OPTIMIZER,EPOCHS,input_mat,targets):\n",
    "    num_features = input_mat.shape[2] #this is the same as input dimension, used in describing batch_input_shape\n",
    "    model = Sequential()\n",
    "    \n",
    "    model.add(LSTM(HIDDEN,batch_input_shape=(BATCH_SIZE,LOOKBACK_WINDOW,num_features)))\n",
    "    model.add(Dropout(DROPOUT))\n",
    "    model.add(Dense(1)) #the output is one dimensional\n",
    "    \n",
    "    model.compile(loss='mse',optimizer=OPTIMIZER)\n",
    "    #history = LossHistory()\n",
    "    predictions,actuals,scores = [],[],[]\n",
    "    \n",
    "    assert(len(input_mat)==len(targets)) #checks each sample has a corresponding target value \n",
    "    \n",
    "    for i in range(1,len(input_mat)):\n",
    "        trainX = input_mat[0:i]\n",
    "        trainY = targets[0:i]\n",
    "        testX = input_mat[i].reshape(1,input_mat[0].shape[0],input_mat[0].shape[1]) #convert the input into 3 dimensional array\n",
    "        testY = np.array([targets[i]]).reshape(1,1) #convert the target value into a 2 dimensional array\n",
    "  \n",
    " #walk forward training, to predict the next timestep \n",
    " #you can adjust the verbose parameter to 1 or 2 to watch the LSTM's progress \n",
    "    model.fit(trainX,trainY,nb_epoch=EPOCHS,batch_size=BATCH_SIZE,callbacks=[history],verbose=0)\n",
    "    prediction = model.predict(testX,batch_size=BATCH_SIZE) \n",
    "    score = model.evaluate(testX,testY,batch_size=BATCH_SIZE,verbose=0)\n",
    "    \n",
    "    predictions.append(prediction[0][0])\n",
    "    actuals.append(targets[i])\n",
    "    scores.append(score)\n",
    "    \n",
    "    return model,history,predictions,actuals,scores"
   ]
  },
  {
   "cell_type": "code",
   "execution_count": 50,
   "metadata": {},
   "outputs": [],
   "source": [
    "def evaluate_walk_forward_LSTM(model,history,predictions,actuals,scores):\n",
    "   print(np.mean(scores[int(len(scores)*0.75):])) #since the latter predictions have been trained on more data, we take the average of the testing loss scores for the last quarter of predictions\n",
    "  \n",
    "   plt.figure(1)\n",
    "   plt.plot(history.losses)\n",
    "   plt.title('Loss History')\n",
    "   plt.figure(2)\n",
    "   plt.plot(scores)\n",
    "   plt.title('Testing Loss')\n",
    "   plt.figure(3)\n",
    "   plt.plot(actuals,'b-',label='actual')\n",
    "   plt.plot(predictions,'g-',label='prediction')\n",
    "   plt.title('Basic LSTM')\n",
    "   plt.legend()\n",
    "   plt.grid('on')\n",
    "   plt.show()"
   ]
  },
  {
   "cell_type": "code",
   "execution_count": 51,
   "metadata": {},
   "outputs": [
    {
     "ename": "AssertionError",
     "evalue": "",
     "output_type": "error",
     "traceback": [
      "\u001b[0;31m---------------------------------------------------------------------------\u001b[0m",
      "\u001b[0;31mAssertionError\u001b[0m                            Traceback (most recent call last)",
      "\u001b[0;32m<ipython-input-51-9cda024e1801>\u001b[0m in \u001b[0;36m<module>\u001b[0;34m()\u001b[0m\n\u001b[1;32m      7\u001b[0m \u001b[0mEPOCHS\u001b[0m \u001b[0;34m=\u001b[0m \u001b[0;36m3\u001b[0m\u001b[0;34m\u001b[0m\u001b[0m\n\u001b[1;32m      8\u001b[0m \u001b[0;34m\u001b[0m\u001b[0m\n\u001b[0;32m----> 9\u001b[0;31m \u001b[0mmodel\u001b[0m\u001b[0;34m,\u001b[0m\u001b[0mhistory\u001b[0m\u001b[0;34m,\u001b[0m\u001b[0mpredictions\u001b[0m\u001b[0;34m,\u001b[0m\u001b[0mactuals\u001b[0m\u001b[0;34m,\u001b[0m\u001b[0mscores\u001b[0m \u001b[0;34m=\u001b[0m \u001b[0mbasic_LSTM_model\u001b[0m\u001b[0;34m(\u001b[0m\u001b[0mBATCH_SIZE\u001b[0m\u001b[0;34m,\u001b[0m\u001b[0mHIDDEN\u001b[0m\u001b[0;34m,\u001b[0m\u001b[0mLOOKBACK_WINDOW\u001b[0m\u001b[0;34m,\u001b[0m\u001b[0mDROPOUT\u001b[0m\u001b[0;34m,\u001b[0m\u001b[0mOPTIMIZER\u001b[0m\u001b[0;34m,\u001b[0m\u001b[0mEPOCHS\u001b[0m\u001b[0;34m,\u001b[0m\u001b[0minput_mat\u001b[0m\u001b[0;34m,\u001b[0m\u001b[0mtargets\u001b[0m\u001b[0;34m)\u001b[0m\u001b[0;34m\u001b[0m\u001b[0m\n\u001b[0m\u001b[1;32m     10\u001b[0m \u001b[0mevaluate_walk_forward_LSTM\u001b[0m\u001b[0;34m(\u001b[0m\u001b[0mmodel\u001b[0m\u001b[0;34m,\u001b[0m\u001b[0mhistory\u001b[0m\u001b[0;34m,\u001b[0m\u001b[0mpredictions\u001b[0m\u001b[0;34m,\u001b[0m\u001b[0mactuals\u001b[0m\u001b[0;34m,\u001b[0m\u001b[0mscores\u001b[0m\u001b[0;34m)\u001b[0m\u001b[0;34m\u001b[0m\u001b[0m\n",
      "\u001b[0;32m<ipython-input-49-09381916f59f>\u001b[0m in \u001b[0;36mbasic_LSTM_model\u001b[0;34m(BATCH_SIZE, HIDDEN, LOOKBACK_WINDOW, DROPOUT, OPTIMIZER, EPOCHS, input_mat, targets)\u001b[0m\n\u001b[1;32m     11\u001b[0m     \u001b[0mpredictions\u001b[0m\u001b[0;34m,\u001b[0m\u001b[0mactuals\u001b[0m\u001b[0;34m,\u001b[0m\u001b[0mscores\u001b[0m \u001b[0;34m=\u001b[0m \u001b[0;34m[\u001b[0m\u001b[0;34m]\u001b[0m\u001b[0;34m,\u001b[0m\u001b[0;34m[\u001b[0m\u001b[0;34m]\u001b[0m\u001b[0;34m,\u001b[0m\u001b[0;34m[\u001b[0m\u001b[0;34m]\u001b[0m\u001b[0;34m\u001b[0m\u001b[0m\n\u001b[1;32m     12\u001b[0m \u001b[0;34m\u001b[0m\u001b[0m\n\u001b[0;32m---> 13\u001b[0;31m     \u001b[0;32massert\u001b[0m\u001b[0;34m(\u001b[0m\u001b[0mlen\u001b[0m\u001b[0;34m(\u001b[0m\u001b[0minput_mat\u001b[0m\u001b[0;34m)\u001b[0m\u001b[0;34m==\u001b[0m\u001b[0mlen\u001b[0m\u001b[0;34m(\u001b[0m\u001b[0mtargets\u001b[0m\u001b[0;34m)\u001b[0m\u001b[0;34m)\u001b[0m \u001b[0;31m#checks each sample has a corresponding target value\u001b[0m\u001b[0;34m\u001b[0m\u001b[0m\n\u001b[0m\u001b[1;32m     14\u001b[0m \u001b[0;34m\u001b[0m\u001b[0m\n\u001b[1;32m     15\u001b[0m     \u001b[0;32mfor\u001b[0m \u001b[0mi\u001b[0m \u001b[0;32min\u001b[0m \u001b[0mrange\u001b[0m\u001b[0;34m(\u001b[0m\u001b[0;36m1\u001b[0m\u001b[0;34m,\u001b[0m\u001b[0mlen\u001b[0m\u001b[0;34m(\u001b[0m\u001b[0minput_mat\u001b[0m\u001b[0;34m)\u001b[0m\u001b[0;34m)\u001b[0m\u001b[0;34m:\u001b[0m\u001b[0;34m\u001b[0m\u001b[0m\n",
      "\u001b[0;31mAssertionError\u001b[0m: "
     ]
    }
   ],
   "source": [
    "LOOKBACK_WINDOW = 15\n",
    "PREDICT_WINDOW = 1\n",
    "BATCH_SIZE = 1 #e.g if 3, then trains with 3 samples/lookback windows, each with 15 timesteps and 2 features at once.\n",
    "HIDDEN = 32\n",
    "DROPOUT = 0.3\n",
    "OPTIMIZER = 'adam'\n",
    "EPOCHS = 3\n",
    " \n",
    "model,history,predictions,actuals,scores = basic_LSTM_model(BATCH_SIZE,HIDDEN,LOOKBACK_WINDOW,DROPOUT,OPTIMIZER,EPOCHS,input_mat,targets)\n",
    "evaluate_walk_forward_LSTM(model,history,predictions,actuals,scores)"
   ]
  },
  {
   "cell_type": "code",
   "execution_count": null,
   "metadata": {},
   "outputs": [],
   "source": []
  }
 ],
 "metadata": {
  "kernelspec": {
   "display_name": "Python 3",
   "language": "python",
   "name": "python3"
  },
  "language_info": {
   "codemirror_mode": {
    "name": "ipython",
    "version": 3
   },
   "file_extension": ".py",
   "mimetype": "text/x-python",
   "name": "python",
   "nbconvert_exporter": "python",
   "pygments_lexer": "ipython3",
   "version": "3.6.5"
  }
 },
 "nbformat": 4,
 "nbformat_minor": 2
}
