{
 "cells": [
  {
   "cell_type": "code",
   "execution_count": 4,
   "metadata": {},
   "outputs": [
    {
     "name": "stderr",
     "output_type": "stream",
     "text": [
      "Using TensorFlow backend.\n"
     ]
    }
   ],
   "source": [
    "import keras.callbacks\n",
    "from keras.models import Sequential\n",
    "from keras.layers.core import Dense, Activation, Dense, Dropout\n",
    "from keras.layers.recurrent import LSTM\n",
    "import pandas as pd\n",
    "import numpy as np\n",
    "import matplotlib.pyplot as plt\n",
    "from sklearn.preprocessing import MinMaxScaler\n",
    "import numpy.random as random"
   ]
  },
  {
   "cell_type": "code",
   "execution_count": 5,
   "metadata": {},
   "outputs": [],
   "source": [
    "LOOKBACK_WINDOW = 15\n",
    "PREDICT_WINDOW = 1\n",
    "BATCH_SIZE = 1     #e.g if 3, then trains with 3 samples/lookback windows, each with 15 timesteps and 2 features at once before updating gradients.\n",
    "HIDDEN = 32\n",
    "DROPOUT = 0.3\n",
    "OPTIMIZER = 'adam'\n",
    "EPOCHS = 3"
   ]
  },
  {
   "cell_type": "markdown",
   "metadata": {},
   "source": [
    "BATCH_SIZE - 그라디언트 업데이트 당 샘플 수입니다. \n",
    "가중치를 업데이트하기 전에 LSTM 네트워크를 학습하는 데 사용되는 N 개의 샘플 집합입니다. \n",
    "일괄 처리로 인해 모델이 한 번 업데이트됩니다. 따라서 배치 크기가 작을수록 학습 과정이 빨라집니다.\n",
    "batch_input_shape - 형상을 3D 배열로 전달하는 경우 : (batch_size, timesteps, input_dim); feature를 2 차원 배열로 전달하는 경우 : (batch_size, output_dim).\n",
    "batch_input_shape는 신경망의 순차 분류가 정의 된 배치 크기의 입력 데이터를 받아 들일 수 있으며, 가변 길이 벡터의 생성을 제한합니다.\n",
    "EPOCH - 일반적으로 \"전체 데이터 세트에 대해 하나의 통과\"로 정의되는 임의 컷오프는 교육을 별도의 단계로 분리하는 데 사용되며 로깅 및 정기 평가에 유용합니다.\n",
    "HIDDEN - 숨겨진 레이어의 수입니다.\n",
    "LOOKBACK_WINDOW - 일괄 처리의 타임 스텝 수입니다.\n",
    "DROPOUT - 네트워크를 학습하는 동안 셀 상태에 대한 입력 및 순환 연결이 활성화 및 가중치 업데이트에서 확률 적으로 제외되는 정규화 방법입니다. 이렇게하면 모델 성능을 향상시키기 위해 지나친 조정이 줄어 듭니다."
   ]
  },
  {
   "cell_type": "code",
   "execution_count": 6,
   "metadata": {},
   "outputs": [],
   "source": [
    "def coint_path(N,delta,sigma,PO):\n",
    "   X = [PO]\n",
    "   Y = [PO]\n",
    "   for i in range(N):\n",
    "      dX = random.randn()+delta*(Y[-1] - X[-1])\n",
    "      X.append(X[-1]+dX)\n",
    "      dY = random.randn()+sigma*(X[-1] - Y[-1])\n",
    "      Y.append(Y[-1]+dY)\n",
    " \n",
    "   return X,Y\n",
    " \n",
    "#create artificial cointegrated series\n",
    "X,Y = coint_path(60,0.9,0.1,0)"
   ]
  },
  {
   "cell_type": "code",
   "execution_count": 7,
   "metadata": {},
   "outputs": [
    {
     "data": {
      "image/png": "[encoded data removed]",
      "text/plain": [
       "<matplotlib.figure.Figure at 0x1a1f7a4080>"
      ]
     },
     "metadata": {},
     "output_type": "display_data"
    }
   ],
   "source": [
    "plt.plot(np.array(Y),label='Y')\n",
    "plt.plot(np.array(X),label='X')\n",
    "plt.legend()\n",
    "plt.show();"
   ]
  },
  {
   "cell_type": "markdown",
   "metadata": {},
   "source": [
    "우리는 두 개의 시리즈를 함께 다차원 배열로 '쌓아야'합니다. \n",
    "그런 다음 sklearn의 MinMaxScaler 함수를 사용하여 새로 생성 된 다차원 배열을 정규화합니다. \n",
    "이 값은 -1과 1 사이의 값으로 변환됩니다."
   ]
  },
  {
   "cell_type": "code",
   "execution_count": 8,
   "metadata": {},
   "outputs": [],
   "source": [
    "def prep_feature_data(X,Y):\n",
    "    data = np.column_stack([X,Y])\n",
    "    scaler = MinMaxScaler(feature_range=(-1,1)) #다차원 배열 정규화\n",
    "    data = scaler.fit_transform(data)\n",
    "    return data\n",
    " \n",
    "#format features for the model into a multidimensional array\n",
    "data = prep_feature_data(X,Y)"
   ]
  },
  {
   "cell_type": "markdown",
   "metadata": {},
   "source": [
    "이것은 다차원 배열과 같이 이제 형상 데이터가 어떻게 생겼는지를 나타냅니다."
   ]
  },
  {
   "cell_type": "code",
   "execution_count": 9,
   "metadata": {},
   "outputs": [
    {
     "name": "stdout",
     "output_type": "stream",
     "text": [
      "[[-0.74439626 -0.88166496]\n",
      " [-0.67891363 -0.63281693]\n",
      " [-0.88938674 -0.84477515]]\n",
      "(61, 2)\n"
     ]
    }
   ],
   "source": [
    "print(data[0:3])\n",
    "print(data.shape)"
   ]
  },
  {
   "cell_type": "markdown",
   "metadata": {},
   "source": [
    "이제 우리는 nb_samples에 대해이 정수 값을 계산합니다. nb_samples는 전환 확인 기간을 설정할 다음 단계의 정수입니다. \n",
    "얼마나 많은 총 샘플 / 관측치보다 예측 및 전환 확인 기간이 적어 지므로 이러한 창 생성을 중단해야하는지 알 수 있습니다."
   ]
  },
  {
   "cell_type": "code",
   "execution_count": 10,
   "metadata": {},
   "outputs": [],
   "source": [
    "def window_stop(data,LOOKBACK_WINDOW,PREDICT_WINDOW):\n",
    "    examples = LOOKBACK_WINDOW\n",
    "    y_examples = PREDICT_WINDOW\n",
    "    nb_samples = len(data) - examples - y_examples #makes sure it can be split into lookback windows properly\n",
    "    return nb_samples\n",
    " \n",
    "#ensure it can be divided into the lookback window/batch size\n",
    "nb_samples = window_stop(data,LOOKBACK_WINDOW,PREDICT_WINDOW)"
   ]
  },
  {
   "cell_type": "code",
   "execution_count": 11,
   "metadata": {},
   "outputs": [
    {
     "name": "stdout",
     "output_type": "stream",
     "text": [
      "45\n"
     ]
    }
   ],
   "source": [
    "print(nb_samples)"
   ]
  },
  {
   "cell_type": "markdown",
   "metadata": {},
   "source": [
    "이제는 더 많은 형식 지정이 기능 데이터에 필요합니다. 여기서는 LSTM에 반영 할 전환 확인 기간을 만듭니다.\n",
    "\n",
    "np.expand_dims는 확장 배열 모양의 축 위치에 나타날 새 축을 삽입하여 배열의 모양을 확장합니다. 각 데이터 전환 확인 기간의 이전 모양은 (관측 개수, 기능 개수) 즉, 20 개의 전환 확인 기간이 있고 2 개의 기능이있는 경우 이전 모양은 (20,2)이고 새 모양은 (1, 20, 2)입니다.\n",
    "\n",
    "이렇게하면 모양이 (800,2)가 아닌 (40,2,2) 별도의 전환 확인 기간이 모두 연결되면됩니다. 즉 2 개의 기능이있는 20 개의 룩백 샘플로 구성된 40 개의 룩백 (lookback) 윈도우가 있습니다."
   ]
  },
  {
   "cell_type": "code",
   "execution_count": 12,
   "metadata": {},
   "outputs": [],
   "source": [
    "def input_features(nb_samples,LOOKBACK_WINDOW):\n",
    "    input_list = [np.expand_dims(data[i:LOOKBACK_WINDOW+i,:], axis=0) for i in range(nb_samples)] #here nb_samples comes in handy\n",
    "    input_mat = np.concatenate(input_list, axis=0)\n",
    "    return input_mat\n",
    " \n",
    "#format the features into the batch size\n",
    "input_mat = input_features(nb_samples,LOOKBACK_WINDOW)"
   ]
  },
  {
   "cell_type": "markdown",
   "metadata": {},
   "source": [
    "이것은 새로운 입력 행렬의 모양을 미리 보여줍니다. 전환 확인 기간은 항상 한 번에 한 단계 앞으로 이동하는 방법에 유의하십시오. 데이터를 20 개의 샘플 그룹으로 단순히 나누는 것과 같지 않습니다."
   ]
  },
  {
   "cell_type": "code",
   "execution_count": 13,
   "metadata": {},
   "outputs": [
    {
     "name": "stdout",
     "output_type": "stream",
     "text": [
      "[[[-0.74439626 -0.88166496]\n",
      "  [-0.67891363 -0.63281693]\n",
      "  [-0.88938674 -0.84477515]\n",
      "  [-0.52079682 -0.64130987]\n",
      "  [-0.48470985 -0.52910216]\n",
      "  [-0.4583289  -0.39963502]\n",
      "  [-0.15504444 -0.38395797]\n",
      "  [-0.25489863 -0.4447314 ]\n",
      "  [-0.8837093   0.23561533]\n",
      "  [ 0.70392209  0.66640298]\n",
      "  [ 0.51953165  0.54833986]\n",
      "  [ 0.42673021  0.31673962]\n",
      "  [ 0.32270354  0.54409509]\n",
      "  [ 0.11233405  0.30268787]\n",
      "  [-0.18179549  0.31023115]]\n",
      "\n",
      " [[-0.67891363 -0.63281693]\n",
      "  [-0.88938674 -0.84477515]\n",
      "  [-0.52079682 -0.64130987]\n",
      "  [-0.48470985 -0.52910216]\n",
      "  [-0.4583289  -0.39963502]\n",
      "  [-0.15504444 -0.38395797]\n",
      "  [-0.25489863 -0.4447314 ]\n",
      "  [-0.8837093   0.23561533]\n",
      "  [ 0.70392209  0.66640298]\n",
      "  [ 0.51953165  0.54833986]\n",
      "  [ 0.42673021  0.31673962]\n",
      "  [ 0.32270354  0.54409509]\n",
      "  [ 0.11233405  0.30268787]\n",
      "  [-0.18179549  0.31023115]\n",
      "  [-0.00892672  0.34628665]]]\n",
      "(45, 15, 2)\n"
     ]
    }
   ],
   "source": [
    "print(input_mat[0:2]) #the second sample of features will become the first sample in the next window\n",
    "print(input_mat.shape)"
   ]
  },
  {
   "cell_type": "markdown",
   "metadata": {},
   "source": [
    "마지막으로 우리의 기능 데이터가 준비되었습니다!\n",
    "\n",
    "이제 목표 값을 만듭니다. \n",
    "이 예에서 우리는 LSTM 모델을 훈련하여 두 피쳐 간의 기울기 (베타)를 기반으로 선형 회귀선의 절편을 예측하려고합니다."
   ]
  },
  {
   "cell_type": "code",
   "execution_count": 55,
   "metadata": {},
   "outputs": [],
   "source": [
    "def target_values(input_mat):\n",
    "    targets = []\n",
    "    for i in range(len(input_mat)):\n",
    "        X1 = input_mat[i].T[0]\n",
    "        X2 = input_mat[i].T[1]\n",
    "        beta = np.polyfit(X1,X2,1)[0] #the slope is calculated from each lookback window \n",
    "        targets = targets.append(X1[-1] - beta*X2[-1]) \n",
    "        targets = np.array(targets)\n",
    "  \n",
    "    return targets"
   ]
  },
  {
   "cell_type": "code",
   "execution_count": 56,
   "metadata": {},
   "outputs": [
    {
     "ename": "AttributeError",
     "evalue": "'numpy.ndarray' object has no attribute 'append'",
     "output_type": "error",
     "traceback": [
      "\u001b[0;31m---------------------------------------------------------------------------\u001b[0m",
      "\u001b[0;31mAttributeError\u001b[0m                            Traceback (most recent call last)",
      "\u001b[0;32m<ipython-input-56-198630094e6c>\u001b[0m in \u001b[0;36m<module>\u001b[0;34m()\u001b[0m\n\u001b[1;32m      1\u001b[0m \u001b[0;31m#format the targets into the batch size\u001b[0m\u001b[0;34m\u001b[0m\u001b[0;34m\u001b[0m\u001b[0m\n\u001b[0;32m----> 2\u001b[0;31m \u001b[0mtargets\u001b[0m \u001b[0;34m=\u001b[0m \u001b[0mtarget_values\u001b[0m\u001b[0;34m(\u001b[0m\u001b[0minput_mat\u001b[0m\u001b[0;34m)\u001b[0m\u001b[0;34m\u001b[0m\u001b[0m\n\u001b[0m",
      "\u001b[0;32m<ipython-input-55-8f72fd493ae7>\u001b[0m in \u001b[0;36mtarget_values\u001b[0;34m(input_mat)\u001b[0m\n\u001b[1;32m      5\u001b[0m         \u001b[0mX2\u001b[0m \u001b[0;34m=\u001b[0m \u001b[0minput_mat\u001b[0m\u001b[0;34m[\u001b[0m\u001b[0mi\u001b[0m\u001b[0;34m]\u001b[0m\u001b[0;34m.\u001b[0m\u001b[0mT\u001b[0m\u001b[0;34m[\u001b[0m\u001b[0;36m1\u001b[0m\u001b[0;34m]\u001b[0m\u001b[0;34m\u001b[0m\u001b[0m\n\u001b[1;32m      6\u001b[0m         \u001b[0mbeta\u001b[0m \u001b[0;34m=\u001b[0m \u001b[0mnp\u001b[0m\u001b[0;34m.\u001b[0m\u001b[0mpolyfit\u001b[0m\u001b[0;34m(\u001b[0m\u001b[0mX1\u001b[0m\u001b[0;34m,\u001b[0m\u001b[0mX2\u001b[0m\u001b[0;34m,\u001b[0m\u001b[0;36m1\u001b[0m\u001b[0;34m)\u001b[0m\u001b[0;34m[\u001b[0m\u001b[0;36m0\u001b[0m\u001b[0;34m]\u001b[0m \u001b[0;31m#the slope is calculated from each lookback window\u001b[0m\u001b[0;34m\u001b[0m\u001b[0m\n\u001b[0;32m----> 7\u001b[0;31m         \u001b[0mtargets\u001b[0m \u001b[0;34m=\u001b[0m \u001b[0mtargets\u001b[0m\u001b[0;34m.\u001b[0m\u001b[0mappend\u001b[0m\u001b[0;34m(\u001b[0m\u001b[0mX1\u001b[0m\u001b[0;34m[\u001b[0m\u001b[0;34m-\u001b[0m\u001b[0;36m1\u001b[0m\u001b[0;34m]\u001b[0m \u001b[0;34m-\u001b[0m \u001b[0mbeta\u001b[0m\u001b[0;34m*\u001b[0m\u001b[0mX2\u001b[0m\u001b[0;34m[\u001b[0m\u001b[0;34m-\u001b[0m\u001b[0;36m1\u001b[0m\u001b[0;34m]\u001b[0m\u001b[0;34m)\u001b[0m\u001b[0;34m\u001b[0m\u001b[0m\n\u001b[0m\u001b[1;32m      8\u001b[0m         \u001b[0mtargets\u001b[0m \u001b[0;34m=\u001b[0m \u001b[0mnp\u001b[0m\u001b[0;34m.\u001b[0m\u001b[0marray\u001b[0m\u001b[0;34m(\u001b[0m\u001b[0mtargets\u001b[0m\u001b[0;34m)\u001b[0m\u001b[0;34m\u001b[0m\u001b[0m\n\u001b[1;32m      9\u001b[0m \u001b[0;34m\u001b[0m\u001b[0m\n",
      "\u001b[0;31mAttributeError\u001b[0m: 'numpy.ndarray' object has no attribute 'append'"
     ]
    }
   ],
   "source": [
    "#format the targets into the batch size\n",
    "targets = target_values(input_mat)"
   ]
  },
  {
   "cell_type": "code",
   "execution_count": 41,
   "metadata": {},
   "outputs": [
    {
     "ename": "NameError",
     "evalue": "name 'targets' is not defined",
     "output_type": "error",
     "traceback": [
      "\u001b[0;31m---------------------------------------------------------------------------\u001b[0m",
      "\u001b[0;31mNameError\u001b[0m                                 Traceback (most recent call last)",
      "\u001b[0;32m<ipython-input-41-0fbc8da9526f>\u001b[0m in \u001b[0;36m<module>\u001b[0;34m()\u001b[0m\n\u001b[0;32m----> 1\u001b[0;31m \u001b[0mprint\u001b[0m\u001b[0;34m(\u001b[0m\u001b[0mtargets\u001b[0m\u001b[0;34m)\u001b[0m\u001b[0;34m\u001b[0m\u001b[0m\n\u001b[0m\u001b[1;32m      2\u001b[0m \u001b[0mprint\u001b[0m\u001b[0;34m(\u001b[0m\u001b[0mtargets\u001b[0m\u001b[0;34m.\u001b[0m\u001b[0mshape\u001b[0m\u001b[0;34m)\u001b[0m\u001b[0;34m\u001b[0m\u001b[0m\n",
      "\u001b[0;31mNameError\u001b[0m: name 'targets' is not defined"
     ]
    }
   ],
   "source": [
    "print(targets)\n",
    "print(targets.shape)"
   ]
  },
  {
   "cell_type": "code",
   "execution_count": 38,
   "metadata": {},
   "outputs": [],
   "source": [
    "def basic_LSTM_model(BATCH_SIZE,HIDDEN,LOOKBACK_WINDOW,DROPOUT,OPTIMIZER,EPOCHS,input_mat,targets):\n",
    "    num_features = input_mat.shape[2] #this is the same as input dimension, used in describing batch_input_shape\n",
    "    model = Sequential()\n",
    "    \n",
    "    model.add(LSTM(HIDDEN,batch_input_shape=(BATCH_SIZE,LOOKBACK_WINDOW,num_features)))\n",
    "    model.add(Dropout(DROPOUT))\n",
    "    model.add(Dense(1)) #the output is one dimensional\n",
    "    \n",
    "    model.compile(loss='mse',optimizer=OPTIMIZER)\n",
    "    #history = LossHistory()\n",
    "    predictions,actuals,scores = [],[],[]\n",
    "    \n",
    "    assert(len(input_mat)==len(targets)) #checks each sample has a corresponding target value \n",
    "    \n",
    "    for i in range(1,len(input_mat)):\n",
    "        trainX = input_mat[0:i]\n",
    "        trainY = targets[0:i]\n",
    "        testX = input_mat[i].reshape(1,input_mat[0].shape[0],input_mat[0].shape[1]) #convert the input into 3 dimensional array\n",
    "        testY = np.array([targets[i]]).reshape(1,1) #convert the target value into a 2 dimensional array\n",
    "  \n",
    " #walk forward training, to predict the next timestep \n",
    " #you can adjust the verbose parameter to 1 or 2 to watch the LSTM's progress \n",
    "    model.fit(trainX,trainY,nb_epoch=EPOCHS,batch_size=BATCH_SIZE,callbacks=[history],verbose=0)\n",
    "    prediction = model.predict(testX,batch_size=BATCH_SIZE) \n",
    "    score = model.evaluate(testX,testY,batch_size=BATCH_SIZE,verbose=0)\n",
    "    \n",
    "    predictions.append(prediction[0][0])\n",
    "    actuals.append(targets[i])\n",
    "    scores.append(score)\n",
    "    \n",
    "    return model,history,predictions,actuals,scores"
   ]
  },
  {
   "cell_type": "code",
   "execution_count": 39,
   "metadata": {},
   "outputs": [],
   "source": [
    "def evaluate_walk_forward_LSTM(model,history,predictions,actuals,scores):\n",
    "   print(np.mean(scores[int(len(scores)*0.75):])) #since the latter predictions have been trained on more data, we take the average of the testing loss scores for the last quarter of predictions\n",
    "  \n",
    "   plt.figure(1)\n",
    "   plt.plot(history.losses)\n",
    "   plt.title('Loss History')\n",
    "   plt.figure(2)\n",
    "   plt.plot(scores)\n",
    "   plt.title('Testing Loss')\n",
    "   plt.figure(3)\n",
    "   plt.plot(actuals,'b-',label='actual')\n",
    "   plt.plot(predictions,'g-',label='prediction')\n",
    "   plt.title('Basic LSTM')\n",
    "   plt.legend()\n",
    "   plt.grid('on')\n",
    "   plt.show()"
   ]
  },
  {
   "cell_type": "code",
   "execution_count": 40,
   "metadata": {},
   "outputs": [
    {
     "ename": "NameError",
     "evalue": "name 'targets' is not defined",
     "output_type": "error",
     "traceback": [
      "\u001b[0;31m---------------------------------------------------------------------------\u001b[0m",
      "\u001b[0;31mNameError\u001b[0m                                 Traceback (most recent call last)",
      "\u001b[0;32m<ipython-input-40-9cda024e1801>\u001b[0m in \u001b[0;36m<module>\u001b[0;34m()\u001b[0m\n\u001b[1;32m      7\u001b[0m \u001b[0mEPOCHS\u001b[0m \u001b[0;34m=\u001b[0m \u001b[0;36m3\u001b[0m\u001b[0;34m\u001b[0m\u001b[0m\n\u001b[1;32m      8\u001b[0m \u001b[0;34m\u001b[0m\u001b[0m\n\u001b[0;32m----> 9\u001b[0;31m \u001b[0mmodel\u001b[0m\u001b[0;34m,\u001b[0m\u001b[0mhistory\u001b[0m\u001b[0;34m,\u001b[0m\u001b[0mpredictions\u001b[0m\u001b[0;34m,\u001b[0m\u001b[0mactuals\u001b[0m\u001b[0;34m,\u001b[0m\u001b[0mscores\u001b[0m \u001b[0;34m=\u001b[0m \u001b[0mbasic_LSTM_model\u001b[0m\u001b[0;34m(\u001b[0m\u001b[0mBATCH_SIZE\u001b[0m\u001b[0;34m,\u001b[0m\u001b[0mHIDDEN\u001b[0m\u001b[0;34m,\u001b[0m\u001b[0mLOOKBACK_WINDOW\u001b[0m\u001b[0;34m,\u001b[0m\u001b[0mDROPOUT\u001b[0m\u001b[0;34m,\u001b[0m\u001b[0mOPTIMIZER\u001b[0m\u001b[0;34m,\u001b[0m\u001b[0mEPOCHS\u001b[0m\u001b[0;34m,\u001b[0m\u001b[0minput_mat\u001b[0m\u001b[0;34m,\u001b[0m\u001b[0mtargets\u001b[0m\u001b[0;34m)\u001b[0m\u001b[0;34m\u001b[0m\u001b[0m\n\u001b[0m\u001b[1;32m     10\u001b[0m \u001b[0mevaluate_walk_forward_LSTM\u001b[0m\u001b[0;34m(\u001b[0m\u001b[0mmodel\u001b[0m\u001b[0;34m,\u001b[0m\u001b[0mhistory\u001b[0m\u001b[0;34m,\u001b[0m\u001b[0mpredictions\u001b[0m\u001b[0;34m,\u001b[0m\u001b[0mactuals\u001b[0m\u001b[0;34m,\u001b[0m\u001b[0mscores\u001b[0m\u001b[0;34m)\u001b[0m\u001b[0;34m\u001b[0m\u001b[0m\n",
      "\u001b[0;31mNameError\u001b[0m: name 'targets' is not defined"
     ]
    }
   ],
   "source": [
    "LOOKBACK_WINDOW = 15\n",
    "PREDICT_WINDOW = 1\n",
    "BATCH_SIZE = 1 #e.g if 3, then trains with 3 samples/lookback windows, each with 15 timesteps and 2 features at once.\n",
    "HIDDEN = 32\n",
    "DROPOUT = 0.3\n",
    "OPTIMIZER = 'adam'\n",
    "EPOCHS = 3\n",
    " \n",
    "model,history,predictions,actuals,scores = basic_LSTM_model(BATCH_SIZE,HIDDEN,LOOKBACK_WINDOW,DROPOUT,OPTIMIZER,EPOCHS,input_mat,targets)\n",
    "evaluate_walk_forward_LSTM(model,history,predictions,actuals,scores)"
   ]
  },
  {
   "cell_type": "code",
   "execution_count": null,
   "metadata": {},
   "outputs": [],
   "source": []
  }
 ],
 "metadata": {
  "kernelspec": {
   "display_name": "Python 3",
   "language": "python",
   "name": "python3"
  },
  "language_info": {
   "codemirror_mode": {
    "name": "ipython",
    "version": 3
   },
   "file_extension": ".py",
   "mimetype": "text/x-python",
   "name": "python",
   "nbconvert_exporter": "python",
   "pygments_lexer": "ipython3",
   "version": "3.6.4"
  }
 },
 "nbformat": 4,
 "nbformat_minor": 2
}
